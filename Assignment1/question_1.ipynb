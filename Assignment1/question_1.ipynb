{
 "cells": [
  {
   "cell_type": "code",
   "execution_count": 1,
   "metadata": {},
   "outputs": [
    {
     "name": "stderr",
     "output_type": "stream",
     "text": [
      "e:\\python\\lib\\site-packages\\tqdm\\auto.py:22: TqdmWarning: IProgress not found. Please update jupyter and ipywidgets. See https://ipywidgets.readthedocs.io/en/stable/user_install.html\n",
      "  from .autonotebook import tqdm as notebook_tqdm\n"
     ]
    }
   ],
   "source": [
    "import datasets\n",
    "from datasets import load_dataset\n",
    "import math\n",
    "import cv2\n",
    "import PIL\n",
    "import numpy as np\n",
    "import random\n",
    "import matplotlib.pyplot as plt\n"
   ]
  },
  {
   "cell_type": "code",
   "execution_count": 2,
   "metadata": {},
   "outputs": [],
   "source": [
    "np.random.seed(0)"
   ]
  },
  {
   "cell_type": "code",
   "execution_count": 3,
   "metadata": {},
   "outputs": [
    {
     "name": "stderr",
     "output_type": "stream",
     "text": [
      "e:\\python\\lib\\site-packages\\datasets\\load.py:1454: FutureWarning: The repository for mnist contains custom code which must be executed to correctly load the dataset. You can inspect the repository content at https://hf.co/datasets/mnist\n",
      "You can avoid this message in future by passing the argument `trust_remote_code=True`.\n",
      "Passing `trust_remote_code=True` will be mandatory to load this dataset from the next major release of `datasets`.\n",
      "  warnings.warn(\n",
      "Downloading builder script: 100%|██████████| 3.98k/3.98k [00:00<00:00, 4.02MB/s]\n",
      "Downloading readme: 100%|██████████| 6.83k/6.83k [00:00<?, ?B/s]\n",
      "Downloading data: 100%|██████████| 9.91M/9.91M [00:01<00:00, 6.37MB/s]\n",
      "Downloading data: 100%|██████████| 28.9k/28.9k [00:00<00:00, 887kB/s]\n",
      "Downloading data: 100%|██████████| 1.65M/1.65M [00:00<00:00, 7.69MB/s]\n",
      "Downloading data: 100%|██████████| 4.54k/4.54k [00:00<00:00, 4.55MB/s]\n",
      "Generating train split: 100%|██████████| 60000/60000 [00:07<00:00, 7811.60 examples/s]\n",
      "Generating test split: 100%|██████████| 10000/10000 [00:01<00:00, 8089.59 examples/s]\n"
     ]
    }
   ],
   "source": [
    "dataset = load_dataset(\"mnist\")"
   ]
  },
  {
   "cell_type": "code",
   "execution_count": 4,
   "metadata": {},
   "outputs": [],
   "source": [
    "selected_images = []\n",
    "selected_labels = []\n",
    "d_image = {i : [] for i in range(10)}\n",
    "\n",
    "d_label = {i : [] for i in range(10)}"
   ]
  },
  {
   "cell_type": "code",
   "execution_count": 5,
   "metadata": {},
   "outputs": [],
   "source": [
    "train_images = dataset[\"train\"][\"image\"]\n",
    "train_labels = dataset[\"train\"][\"label\"]"
   ]
  },
  {
   "cell_type": "markdown",
   "metadata": {},
   "source": [
    "Select 100 from each class randomly"
   ]
  },
  {
   "cell_type": "code",
   "execution_count": 6,
   "metadata": {},
   "outputs": [],
   "source": [
    "for image,label in zip(train_images,train_labels):\n",
    "    d_image[label].append(image)\n",
    "    d_label[label].append(label)\n",
    "selected_images=[]\n",
    "selected_labels = []\n",
    "for i in range(10):\n",
    "    index = random.sample(range(len(d_image[i])),100)\n",
    "    selected_images.extend(d_image[i][j] for j in index)\n",
    "    selected_labels.extend(d_label[i][j] for j in index)\n",
    "selected_images = np.array(selected_images)\n",
    "selected_labels = np.array(selected_labels)"
   ]
  },
  {
   "cell_type": "markdown",
   "metadata": {},
   "source": [
    "Flatten the dataset - 28X28 - 784X1"
   ]
  },
  {
   "cell_type": "code",
   "execution_count": 7,
   "metadata": {},
   "outputs": [],
   "source": [
    "dataset_flatten = [[] for i in range(len(selected_images))]\n",
    "for i in range(len(selected_images)):\n",
    "  dataset_flatten[i] =  selected_images[i].flatten()"
   ]
  },
  {
   "cell_type": "code",
   "execution_count": 8,
   "metadata": {},
   "outputs": [
    {
     "data": {
      "text/plain": [
       "(1000, 784)"
      ]
     },
     "execution_count": 8,
     "metadata": {},
     "output_type": "execute_result"
    }
   ],
   "source": [
    "np.array(dataset_flatten).shape"
   ]
  },
  {
   "cell_type": "markdown",
   "metadata": {},
   "source": [
    "Centering the dataset"
   ]
  },
  {
   "cell_type": "code",
   "execution_count": 9,
   "metadata": {},
   "outputs": [],
   "source": [
    "avg = np.mean(dataset_flatten, axis = 0)\n",
    "centered_dataset = dataset_flatten - avg\n",
    "features = centered_dataset.T\n",
    "covariance_matrix = np.cov(features)\n"
   ]
  },
  {
   "cell_type": "markdown",
   "metadata": {},
   "source": [
    "Eigenvalue and Eigenvector computation"
   ]
  },
  {
   "cell_type": "code",
   "execution_count": 10,
   "metadata": {},
   "outputs": [],
   "source": [
    "eigenvalues, eigenvectors = np.linalg.eig(covariance_matrix)\n"
   ]
  },
  {
   "cell_type": "code",
   "execution_count": 11,
   "metadata": {},
   "outputs": [],
   "source": [
    "eigenvalues = eigenvalues.real\n",
    "eigenvectors = eigenvectors.real"
   ]
  },
  {
   "cell_type": "code",
   "execution_count": 12,
   "metadata": {},
   "outputs": [],
   "source": [
    "eigenvalues_sort = list(np.argsort(eigenvalues))[::-1]\n",
    "eigenvalues = eigenvalues[eigenvalues_sort]\n",
    "eigenvectors =eigenvectors[:, eigenvalues_sort]\n"
   ]
  },
  {
   "cell_type": "code",
   "execution_count": 13,
   "metadata": {},
   "outputs": [
    {
     "name": "stdout",
     "output_type": "stream",
     "text": [
      "First 10 eigenvalues: [336000.71420593 242099.10350798 213413.53562826 196891.00581537\n",
      " 172965.73452645 144498.43810778 117705.74698667  97967.03050306\n",
      "  93470.31369597  84427.8325045 ]\n"
     ]
    }
   ],
   "source": [
    "\n",
    "print(f'First 10 eigenvalues: {eigenvalues[:10]}')\n"
   ]
  },
  {
   "cell_type": "markdown",
   "metadata": {},
   "source": [
    "Plotting Eigen values"
   ]
  },
  {
   "cell_type": "code",
   "execution_count": 14,
   "metadata": {},
   "outputs": [
    {
     "data": {
      "image/png": "[encoded data removed]",
      "text/plain": [
       "<Figure size 360x216 with 1 Axes>"
      ]
     },
     "metadata": {
      "needs_background": "light"
     },
     "output_type": "display_data"
    }
   ],
   "source": [
    "plt.figure(figsize=(5,3))\n",
    "plt.stem(eigenvalues[:200], use_line_collection = True)\n",
    "plt.xlabel('Eigen value index')\n",
    "plt.ylabel('Eigen value')\n",
    "plt.show()"
   ]
  },
  {
   "cell_type": "code",
   "execution_count": 15,
   "metadata": {},
   "outputs": [
    {
     "name": "stdout",
     "output_type": "stream",
     "text": [
      "First 1 eigen vectors explain 9.807908157237014% variance\n",
      "First 2 eigen vectors explain 16.87481507666805% variance\n",
      "First 3 eigen vectors explain 23.10438623070541% variance\n",
      "First 4 eigen vectors explain 28.85166241309964% variance\n",
      "First 5 eigen vectors explain 33.90055655784449% variance\n",
      "First 6 eigen vectors explain 38.118486311876794% variance\n",
      "First 7 eigen vectors explain 41.55433363961993% variance\n",
      "First 8 eigen vectors explain 44.4140050539561% variance\n",
      "First 9 eigen vectors explain 47.14241667154673% variance\n",
      "First 10 eigen vectors explain 49.60687698995918% variance\n",
      "First 11 eigen vectors explain 51.74958549993075% variance\n",
      "First 12 eigen vectors explain 53.794352015933505% variance\n",
      "First 13 eigen vectors explain 55.67700782198712% variance\n",
      "First 14 eigen vectors explain 57.36335342646127% variance\n",
      "First 15 eigen vectors explain 58.96817128656274% variance\n",
      "First 16 eigen vectors explain 60.446993678858256% variance\n",
      "First 17 eigen vectors explain 61.80674320508312% variance\n",
      "First 18 eigen vectors explain 63.101149802598464% variance\n",
      "First 19 eigen vectors explain 64.30574452146486% variance\n",
      "First 20 eigen vectors explain 65.50233258946521% variance\n",
      "First 21 eigen vectors explain 66.56396589356454% variance\n",
      "First 22 eigen vectors explain 67.58364175431475% variance\n",
      "First 23 eigen vectors explain 68.56528276785944% variance\n",
      "First 24 eigen vectors explain 69.52632316137674% variance\n",
      "First 25 eigen vectors explain 70.44039308061588% variance\n",
      "First 26 eigen vectors explain 71.3227527713471% variance\n",
      "First 27 eigen vectors explain 72.14309364113853% variance\n",
      "First 28 eigen vectors explain 72.94527823035281% variance\n",
      "First 29 eigen vectors explain 73.69309353389815% variance\n",
      "First 30 eigen vectors explain 74.39094978237827% variance\n",
      "First 31 eigen vectors explain 75.07329234499083% variance\n",
      "First 32 eigen vectors explain 75.71796412782535% variance\n",
      "First 33 eigen vectors explain 76.33373666643006% variance\n",
      "First 34 eigen vectors explain 76.92541720004431% variance\n",
      "First 35 eigen vectors explain 77.4953495984669% variance\n",
      "First 36 eigen vectors explain 78.03188804365082% variance\n",
      "First 37 eigen vectors explain 78.56208286921138% variance\n",
      "First 38 eigen vectors explain 79.06265245258092% variance\n",
      "First 39 eigen vectors explain 79.54906259130601% variance\n",
      "First 40 eigen vectors explain 80.0302011917005% variance\n",
      "First 41 eigen vectors explain 80.49841123830144% variance\n",
      "First 42 eigen vectors explain 80.94552382450154% variance\n",
      "First 43 eigen vectors explain 81.3637685548744% variance\n",
      "First 44 eigen vectors explain 81.77458518375515% variance\n",
      "First 45 eigen vectors explain 82.1710835418441% variance\n",
      "First 46 eigen vectors explain 82.54252801501448% variance\n",
      "First 47 eigen vectors explain 82.90915335442862% variance\n",
      "First 48 eigen vectors explain 83.25628943927981% variance\n",
      "First 49 eigen vectors explain 83.58882629875974% variance\n",
      "First 50 eigen vectors explain 83.91090217055569% variance\n",
      "First 51 eigen vectors explain 84.22115220932476% variance\n",
      "First 52 eigen vectors explain 84.5256189362346% variance\n",
      "First 53 eigen vectors explain 84.82463273627647% variance\n",
      "First 54 eigen vectors explain 85.11852689885765% variance\n",
      "First 55 eigen vectors explain 85.40702057296181% variance\n",
      "First 56 eigen vectors explain 85.68614266484593% variance\n",
      "First 57 eigen vectors explain 85.95917401935867% variance\n",
      "First 58 eigen vectors explain 86.2232769819876% variance\n",
      "First 59 eigen vectors explain 86.48600940975822% variance\n",
      "First 60 eigen vectors explain 86.73114824765622% variance\n",
      "First 61 eigen vectors explain 86.97261174401656% variance\n",
      "First 62 eigen vectors explain 87.2019889571547% variance\n",
      "First 63 eigen vectors explain 87.43005261925758% variance\n",
      "First 64 eigen vectors explain 87.6472414501585% variance\n",
      "First 65 eigen vectors explain 87.85763353814228% variance\n",
      "First 66 eigen vectors explain 88.06610266502919% variance\n",
      "First 67 eigen vectors explain 88.27005339568652% variance\n",
      "First 68 eigen vectors explain 88.47118113073729% variance\n",
      "First 69 eigen vectors explain 88.66335931419339% variance\n",
      "First 70 eigen vectors explain 88.84897970990824% variance\n",
      "First 71 eigen vectors explain 89.02559867612857% variance\n",
      "First 72 eigen vectors explain 89.19946829180998% variance\n",
      "First 73 eigen vectors explain 89.36867250250184% variance\n",
      "First 74 eigen vectors explain 89.53409851828944% variance\n",
      "First 75 eigen vectors explain 89.69504347263108% variance\n",
      "First 76 eigen vectors explain 89.85350912598764% variance\n",
      "First 77 eigen vectors explain 90.00691897435904% variance\n",
      "First 78 eigen vectors explain 90.15729971020724% variance\n",
      "First 79 eigen vectors explain 90.30624637019125% variance\n",
      "First 80 eigen vectors explain 90.4505911718152% variance\n",
      "First 81 eigen vectors explain 90.59091050793909% variance\n",
      "First 82 eigen vectors explain 90.72711631590535% variance\n",
      "First 83 eigen vectors explain 90.86109191567112% variance\n",
      "First 84 eigen vectors explain 90.99212364092129% variance\n",
      "First 85 eigen vectors explain 91.12253591042898% variance\n",
      "First 86 eigen vectors explain 91.2487985297553% variance\n",
      "First 87 eigen vectors explain 91.37235073435534% variance\n",
      "First 88 eigen vectors explain 91.4947813344843% variance\n",
      "First 89 eigen vectors explain 91.61479902386893% variance\n",
      "First 90 eigen vectors explain 91.73192595898254% variance\n",
      "First 91 eigen vectors explain 91.84560328539287% variance\n",
      "First 92 eigen vectors explain 91.95780871840994% variance\n",
      "First 93 eigen vectors explain 92.06864335052015% variance\n",
      "First 94 eigen vectors explain 92.17567543693177% variance\n",
      "First 95 eigen vectors explain 92.28037867923895% variance\n",
      "First 96 eigen vectors explain 92.3834041022834% variance\n",
      "First 97 eigen vectors explain 92.48463651556845% variance\n",
      "First 98 eigen vectors explain 92.58275228733477% variance\n",
      "First 99 eigen vectors explain 92.67840403565656% variance\n",
      "First 100 eigen vectors explain 92.773110119207% variance\n",
      "First 101 eigen vectors explain 92.86652297592997% variance\n",
      "First 102 eigen vectors explain 92.95736330799615% variance\n",
      "First 103 eigen vectors explain 93.04628388009263% variance\n",
      "First 104 eigen vectors explain 93.13462410544061% variance\n",
      "First 105 eigen vectors explain 93.22073385706581% variance\n",
      "First 106 eigen vectors explain 93.30594880868327% variance\n",
      "First 107 eigen vectors explain 93.3895059980618% variance\n",
      "First 108 eigen vectors explain 93.4727012904725% variance\n",
      "First 109 eigen vectors explain 93.55522810505227% variance\n",
      "First 110 eigen vectors explain 93.63579878423461% variance\n",
      "First 111 eigen vectors explain 93.71461496590118% variance\n",
      "First 112 eigen vectors explain 93.79324802801821% variance\n",
      "First 113 eigen vectors explain 93.86941921301582% variance\n",
      "First 114 eigen vectors explain 93.94482919109574% variance\n",
      "First 115 eigen vectors explain 94.01914114273212% variance\n",
      "First 116 eigen vectors explain 94.0916933709913% variance\n",
      "First 117 eigen vectors explain 94.16380470663663% variance\n",
      "First 118 eigen vectors explain 94.23490804977214% variance\n",
      "First 119 eigen vectors explain 94.30424608536161% variance\n",
      "First 120 eigen vectors explain 94.37281589388702% variance\n",
      "First 121 eigen vectors explain 94.43999527732599% variance\n",
      "First 122 eigen vectors explain 94.50646710877149% variance\n",
      "First 123 eigen vectors explain 94.57256352597433% variance\n",
      "First 124 eigen vectors explain 94.63658257388389% variance\n",
      "First 125 eigen vectors explain 94.69885517726121% variance\n",
      "First 126 eigen vectors explain 94.76011220898614% variance\n",
      "First 127 eigen vectors explain 94.82072775590713% variance\n",
      "First 128 eigen vectors explain 94.88032982610095% variance\n",
      "First 129 eigen vectors explain 94.93875787756473% variance\n",
      "First 130 eigen vectors explain 94.99639054775423% variance\n",
      "First 131 eigen vectors explain 95.05316508748727% variance\n",
      "First 132 eigen vectors explain 95.10929519806064% variance\n",
      "First 133 eigen vectors explain 95.16508418073201% variance\n",
      "First 134 eigen vectors explain 95.22007410577451% variance\n",
      "First 135 eigen vectors explain 95.27459905526861% variance\n",
      "First 136 eigen vectors explain 95.32879222742065% variance\n",
      "First 137 eigen vectors explain 95.38208316403842% variance\n",
      "First 138 eigen vectors explain 95.4343992312644% variance\n",
      "First 139 eigen vectors explain 95.48627292095945% variance\n",
      "First 140 eigen vectors explain 95.53716612949562% variance\n",
      "First 141 eigen vectors explain 95.58710732362256% variance\n",
      "First 142 eigen vectors explain 95.63639051507138% variance\n",
      "First 143 eigen vectors explain 95.68511405759217% variance\n",
      "First 144 eigen vectors explain 95.73316549588114% variance\n",
      "First 145 eigen vectors explain 95.7805952020674% variance\n",
      "First 146 eigen vectors explain 95.82747491290215% variance\n",
      "First 147 eigen vectors explain 95.87350802514716% variance\n",
      "First 148 eigen vectors explain 95.9193523093587% variance\n",
      "First 149 eigen vectors explain 95.96399462769354% variance\n",
      "First 150 eigen vectors explain 96.0082163396752% variance\n",
      "First 151 eigen vectors explain 96.05174390547069% variance\n",
      "First 152 eigen vectors explain 96.09449363598002% variance\n",
      "First 153 eigen vectors explain 96.13684438992483% variance\n",
      "First 154 eigen vectors explain 96.17853593623978% variance\n",
      "First 155 eigen vectors explain 96.22016287306216% variance\n",
      "First 156 eigen vectors explain 96.26111667071517% variance\n",
      "First 157 eigen vectors explain 96.3011727423837% variance\n",
      "First 158 eigen vectors explain 96.34102809895369% variance\n",
      "First 159 eigen vectors explain 96.38077100265872% variance\n",
      "First 160 eigen vectors explain 96.42020540067195% variance\n",
      "First 161 eigen vectors explain 96.45897931232497% variance\n",
      "First 162 eigen vectors explain 96.49734587890768% variance\n",
      "First 163 eigen vectors explain 96.535171927493% variance\n",
      "First 164 eigen vectors explain 96.57289406067349% variance\n",
      "First 165 eigen vectors explain 96.61013212799095% variance\n",
      "First 166 eigen vectors explain 96.64680136561215% variance\n",
      "First 167 eigen vectors explain 96.68271392809787% variance\n",
      "First 168 eigen vectors explain 96.71844279708873% variance\n",
      "First 169 eigen vectors explain 96.7538942027258% variance\n",
      "First 170 eigen vectors explain 96.7890349091621% variance\n",
      "First 171 eigen vectors explain 96.82363049910549% variance\n",
      "First 172 eigen vectors explain 96.85805392702493% variance\n",
      "First 173 eigen vectors explain 96.89182901561114% variance\n",
      "First 174 eigen vectors explain 96.92549271773656% variance\n"
     ]
    },
    {
     "name": "stdout",
     "output_type": "stream",
     "text": [
      "First 175 eigen vectors explain 96.95888567778853% variance\n",
      "First 176 eigen vectors explain 96.99176725078661% variance\n",
      "First 177 eigen vectors explain 97.0243158505483% variance\n",
      "First 178 eigen vectors explain 97.05620512582428% variance\n",
      "First 179 eigen vectors explain 97.08785776049454% variance\n",
      "First 180 eigen vectors explain 97.1191646641332% variance\n",
      "First 181 eigen vectors explain 97.15023308255712% variance\n",
      "First 182 eigen vectors explain 97.18059918020006% variance\n",
      "First 183 eigen vectors explain 97.21072047340158% variance\n",
      "First 184 eigen vectors explain 97.24077592517052% variance\n",
      "First 185 eigen vectors explain 97.27051297852702% variance\n",
      "First 186 eigen vectors explain 97.29983091186273% variance\n",
      "First 187 eigen vectors explain 97.32886300423195% variance\n",
      "First 188 eigen vectors explain 97.35756043640099% variance\n",
      "First 189 eigen vectors explain 97.38601435135894% variance\n",
      "First 190 eigen vectors explain 97.41444931688243% variance\n",
      "First 191 eigen vectors explain 97.44222236494544% variance\n",
      "First 192 eigen vectors explain 97.46950059916462% variance\n",
      "First 193 eigen vectors explain 97.49673851993818% variance\n",
      "First 194 eigen vectors explain 97.52353438719018% variance\n",
      "First 195 eigen vectors explain 97.54996041160224% variance\n",
      "First 196 eigen vectors explain 97.57632205347042% variance\n",
      "First 197 eigen vectors explain 97.6023592770872% variance\n",
      "First 198 eigen vectors explain 97.62815096705486% variance\n",
      "First 199 eigen vectors explain 97.65366110159367% variance\n",
      "First 200 eigen vectors explain 97.6790638002902% variance\n",
      "First 201 eigen vectors explain 97.70407252943801% variance\n",
      "First 202 eigen vectors explain 97.72891964670653% variance\n",
      "First 203 eigen vectors explain 97.75360543649936% variance\n",
      "First 204 eigen vectors explain 97.77805803135266% variance\n",
      "First 205 eigen vectors explain 97.80212989432593% variance\n",
      "First 206 eigen vectors explain 97.82591333473407% variance\n",
      "First 207 eigen vectors explain 97.84943010667017% variance\n",
      "First 208 eigen vectors explain 97.87266518563607% variance\n",
      "First 209 eigen vectors explain 97.89576482205824% variance\n",
      "First 210 eigen vectors explain 97.91865062410146% variance\n",
      "First 211 eigen vectors explain 97.94136169352238% variance\n",
      "First 212 eigen vectors explain 97.96376927897033% variance\n",
      "First 213 eigen vectors explain 97.98597542104051% variance\n",
      "First 214 eigen vectors explain 98.00807422550855% variance\n",
      "First 215 eigen vectors explain 98.02970475597849% variance\n",
      "First 216 eigen vectors explain 98.05112325470624% variance\n",
      "First 217 eigen vectors explain 98.07240733959614% variance\n",
      "First 218 eigen vectors explain 98.09358772967614% variance\n",
      "First 219 eigen vectors explain 98.11453877419156% variance\n",
      "First 220 eigen vectors explain 98.13522406002687% variance\n",
      "First 221 eigen vectors explain 98.15580969959154% variance\n",
      "First 222 eigen vectors explain 98.17604734644591% variance\n",
      "First 223 eigen vectors explain 98.19593903584673% variance\n",
      "First 224 eigen vectors explain 98.21573754266154% variance\n",
      "First 225 eigen vectors explain 98.23543198949766% variance\n",
      "First 226 eigen vectors explain 98.25501450922589% variance\n",
      "First 227 eigen vectors explain 98.27418297248049% variance\n",
      "First 228 eigen vectors explain 98.2932450065467% variance\n",
      "First 229 eigen vectors explain 98.31217363115734% variance\n",
      "First 230 eigen vectors explain 98.33106495257653% variance\n",
      "First 231 eigen vectors explain 98.349675728173% variance\n",
      "First 232 eigen vectors explain 98.36814381401312% variance\n",
      "First 233 eigen vectors explain 98.38626325296748% variance\n",
      "First 234 eigen vectors explain 98.40429804790548% variance\n",
      "First 235 eigen vectors explain 98.42200416884629% variance\n",
      "First 236 eigen vectors explain 98.439628542009% variance\n",
      "First 237 eigen vectors explain 98.45712724818647% variance\n",
      "First 238 eigen vectors explain 98.4746042308259% variance\n",
      "First 239 eigen vectors explain 98.49187630153855% variance\n",
      "First 240 eigen vectors explain 98.50903483069577% variance\n",
      "First 241 eigen vectors explain 98.52599318259979% variance\n",
      "First 242 eigen vectors explain 98.54275885430616% variance\n",
      "First 243 eigen vectors explain 98.55924503332454% variance\n",
      "First 244 eigen vectors explain 98.57568626683934% variance\n",
      "First 245 eigen vectors explain 98.59201129802602% variance\n",
      "First 246 eigen vectors explain 98.6081542761198% variance\n",
      "First 247 eigen vectors explain 98.62413889534855% variance\n",
      "First 248 eigen vectors explain 98.63991980839336% variance\n",
      "First 249 eigen vectors explain 98.65556242832605% variance\n",
      "First 250 eigen vectors explain 98.67099533077429% variance\n",
      "First 251 eigen vectors explain 98.68616359769672% variance\n",
      "First 252 eigen vectors explain 98.70114607544473% variance\n",
      "First 253 eigen vectors explain 98.71603222128087% variance\n",
      "First 254 eigen vectors explain 98.7308395150172% variance\n",
      "First 255 eigen vectors explain 98.74546354139251% variance\n",
      "First 256 eigen vectors explain 98.7600296308361% variance\n",
      "First 257 eigen vectors explain 98.77453726598061% variance\n",
      "First 258 eigen vectors explain 98.78871195408024% variance\n",
      "First 259 eigen vectors explain 98.80273110980475% variance\n",
      "First 260 eigen vectors explain 98.81657672815649% variance\n",
      "First 261 eigen vectors explain 98.83039444045141% variance\n",
      "First 262 eigen vectors explain 98.84400491060879% variance\n",
      "First 263 eigen vectors explain 98.85759633936803% variance\n",
      "First 264 eigen vectors explain 98.87098182375564% variance\n",
      "First 265 eigen vectors explain 98.88427204823375% variance\n",
      "First 266 eigen vectors explain 98.8972435338421% variance\n",
      "First 267 eigen vectors explain 98.91019957705342% variance\n",
      "First 268 eigen vectors explain 98.92304817652038% variance\n",
      "First 269 eigen vectors explain 98.93582441830313% variance\n",
      "First 270 eigen vectors explain 98.94844205955222% variance\n",
      "First 271 eigen vectors explain 98.96089831391156% variance\n",
      "First 272 eigen vectors explain 98.97325297749612% variance\n",
      "First 273 eigen vectors explain 98.98549323690469% variance\n",
      "First 274 eigen vectors explain 98.99763452536732% variance\n",
      "First 275 eigen vectors explain 99.00956075263635% variance\n",
      "First 276 eigen vectors explain 99.02146109474378% variance\n",
      "First 277 eigen vectors explain 99.03319058426028% variance\n",
      "First 278 eigen vectors explain 99.04484925943352% variance\n",
      "First 279 eigen vectors explain 99.05641653454677% variance\n",
      "First 280 eigen vectors explain 99.06776633060215% variance\n",
      "First 281 eigen vectors explain 99.079087915008% variance\n",
      "First 282 eigen vectors explain 99.09028719162953% variance\n",
      "First 283 eigen vectors explain 99.10148523656424% variance\n",
      "First 284 eigen vectors explain 99.11260332606764% variance\n",
      "First 285 eigen vectors explain 99.12365901171393% variance\n",
      "First 286 eigen vectors explain 99.13452524705228% variance\n",
      "First 287 eigen vectors explain 99.1453197810703% variance\n",
      "First 288 eigen vectors explain 99.15601034186508% variance\n",
      "First 289 eigen vectors explain 99.16658577530384% variance\n",
      "First 290 eigen vectors explain 99.17704944197446% variance\n",
      "First 291 eigen vectors explain 99.18743454777218% variance\n",
      "First 292 eigen vectors explain 99.19762481101563% variance\n",
      "First 293 eigen vectors explain 99.20770249295182% variance\n",
      "First 294 eigen vectors explain 99.21775170886195% variance\n",
      "First 295 eigen vectors explain 99.2277161678036% variance\n",
      "First 296 eigen vectors explain 99.23765182651657% variance\n",
      "First 297 eigen vectors explain 99.24735245512055% variance\n",
      "First 298 eigen vectors explain 99.25700757056396% variance\n",
      "First 299 eigen vectors explain 99.26660495492044% variance\n",
      "First 300 eigen vectors explain 99.27609085476297% variance\n",
      "First 301 eigen vectors explain 99.28548549012876% variance\n",
      "First 302 eigen vectors explain 99.29474983058148% variance\n",
      "First 303 eigen vectors explain 99.30386605960246% variance\n",
      "First 304 eigen vectors explain 99.31294427133078% variance\n",
      "First 305 eigen vectors explain 99.3219487893279% variance\n",
      "First 306 eigen vectors explain 99.33080016213039% variance\n",
      "First 307 eigen vectors explain 99.33949833106962% variance\n",
      "First 308 eigen vectors explain 99.34812792435885% variance\n",
      "First 309 eigen vectors explain 99.3567250695614% variance\n",
      "First 310 eigen vectors explain 99.36522360609416% variance\n",
      "First 311 eigen vectors explain 99.37361330683281% variance\n",
      "First 312 eigen vectors explain 99.38190483937541% variance\n",
      "First 313 eigen vectors explain 99.39018078665465% variance\n",
      "First 314 eigen vectors explain 99.39828576020335% variance\n",
      "First 315 eigen vectors explain 99.40634638374837% variance\n",
      "First 316 eigen vectors explain 99.41432450892734% variance\n",
      "First 317 eigen vectors explain 99.4222954395503% variance\n",
      "First 318 eigen vectors explain 99.43013733528765% variance\n",
      "First 319 eigen vectors explain 99.43785096395878% variance\n",
      "First 320 eigen vectors explain 99.44545845741138% variance\n",
      "First 321 eigen vectors explain 99.45299939230055% variance\n",
      "First 322 eigen vectors explain 99.46052804728699% variance\n",
      "First 323 eigen vectors explain 99.4678739047974% variance\n",
      "First 324 eigen vectors explain 99.47520126278886% variance\n",
      "First 325 eigen vectors explain 99.48242647091045% variance\n",
      "First 326 eigen vectors explain 99.48956370252114% variance\n",
      "First 327 eigen vectors explain 99.49663645526613% variance\n",
      "First 328 eigen vectors explain 99.5036415067119% variance\n",
      "First 329 eigen vectors explain 99.51059697669889% variance\n",
      "First 330 eigen vectors explain 99.51749243339398% variance\n",
      "First 331 eigen vectors explain 99.52435359024332% variance\n",
      "First 332 eigen vectors explain 99.53110487213179% variance\n",
      "First 333 eigen vectors explain 99.5377619246624% variance\n",
      "First 334 eigen vectors explain 99.5443756653241% variance\n",
      "First 335 eigen vectors explain 99.5509223393143% variance\n",
      "First 336 eigen vectors explain 99.55742779039728% variance\n",
      "First 337 eigen vectors explain 99.56382341287858% variance\n",
      "First 338 eigen vectors explain 99.57015880976921% variance\n",
      "First 339 eigen vectors explain 99.57643479271209% variance\n",
      "First 340 eigen vectors explain 99.58266907099221% variance\n",
      "First 341 eigen vectors explain 99.58882464993519% variance\n",
      "First 342 eigen vectors explain 99.59487448194011% variance\n",
      "First 343 eigen vectors explain 99.60081718849196% variance\n",
      "First 344 eigen vectors explain 99.60672558725572% variance\n",
      "First 345 eigen vectors explain 99.61259253662111% variance\n",
      "First 346 eigen vectors explain 99.61841025909204% variance\n",
      "First 347 eigen vectors explain 99.6241944063398% variance\n",
      "First 348 eigen vectors explain 99.62988214808827% variance\n",
      "First 349 eigen vectors explain 99.6355279182452% variance\n",
      "First 350 eigen vectors explain 99.64106826766628% variance\n",
      "First 351 eigen vectors explain 99.64653743232014% variance\n",
      "First 352 eigen vectors explain 99.65197993543156% variance\n",
      "First 353 eigen vectors explain 99.65736066404753% variance\n",
      "First 354 eigen vectors explain 99.66265939943548% variance\n",
      "First 355 eigen vectors explain 99.66784592548439% variance\n",
      "First 356 eigen vectors explain 99.67301390540032% variance\n",
      "First 357 eigen vectors explain 99.67809079109264% variance\n",
      "First 358 eigen vectors explain 99.68315523684514% variance\n",
      "First 359 eigen vectors explain 99.6881729553293% variance\n",
      "First 360 eigen vectors explain 99.69314426261279% variance\n",
      "First 361 eigen vectors explain 99.6980607940689% variance\n",
      "First 362 eigen vectors explain 99.70289372598559% variance\n",
      "First 363 eigen vectors explain 99.70767501793723% variance\n",
      "First 364 eigen vectors explain 99.71235847809785% variance\n",
      "First 365 eigen vectors explain 99.71700227816804% variance\n",
      "First 366 eigen vectors explain 99.72162348539553% variance\n",
      "First 367 eigen vectors explain 99.72613158083286% variance\n",
      "First 368 eigen vectors explain 99.7306184957774% variance\n",
      "First 369 eigen vectors explain 99.73507157161785% variance\n",
      "First 370 eigen vectors explain 99.73943864457591% variance\n",
      "First 371 eigen vectors explain 99.74376531976617% variance\n",
      "First 372 eigen vectors explain 99.7480225289006% variance\n",
      "First 373 eigen vectors explain 99.75224653127489% variance\n",
      "First 374 eigen vectors explain 99.75633394399878% variance\n",
      "First 375 eigen vectors explain 99.7603797899861% variance\n",
      "First 376 eigen vectors explain 99.7643560466003% variance\n",
      "First 377 eigen vectors explain 99.76827966143746% variance\n",
      "First 378 eigen vectors explain 99.7721527323418% variance\n",
      "First 379 eigen vectors explain 99.7760056022865% variance\n",
      "First 380 eigen vectors explain 99.77982940408963% variance\n",
      "First 381 eigen vectors explain 99.78361586989222% variance\n",
      "First 382 eigen vectors explain 99.78735172198013% variance\n",
      "First 383 eigen vectors explain 99.79099809758421% variance\n",
      "First 384 eigen vectors explain 99.79463014948828% variance\n",
      "First 385 eigen vectors explain 99.79823186137463% variance\n",
      "First 386 eigen vectors explain 99.80177277340289% variance\n",
      "First 387 eigen vectors explain 99.80524410085256% variance\n",
      "First 388 eigen vectors explain 99.80870412414708% variance\n",
      "First 389 eigen vectors explain 99.81212971425205% variance\n",
      "First 390 eigen vectors explain 99.81550542078249% variance\n",
      "First 391 eigen vectors explain 99.81884031321435% variance\n",
      "First 392 eigen vectors explain 99.82206448167578% variance\n",
      "First 393 eigen vectors explain 99.8252727211452% variance\n",
      "First 394 eigen vectors explain 99.82846286391388% variance\n",
      "First 395 eigen vectors explain 99.83161479267523% variance\n",
      "First 396 eigen vectors explain 99.83471894745263% variance\n",
      "First 397 eigen vectors explain 99.83779442176836% variance\n",
      "First 398 eigen vectors explain 99.84084137406953% variance\n",
      "First 399 eigen vectors explain 99.84383860999104% variance\n",
      "First 400 eigen vectors explain 99.84679516559306% variance\n",
      "First 401 eigen vectors explain 99.84973016946967% variance\n",
      "First 402 eigen vectors explain 99.85263533679257% variance\n",
      "First 403 eigen vectors explain 99.85550002375898% variance\n",
      "First 404 eigen vectors explain 99.85826508106365% variance\n",
      "First 405 eigen vectors explain 99.86100723669492% variance\n",
      "First 406 eigen vectors explain 99.86370393141324% variance\n",
      "First 407 eigen vectors explain 99.86635391885936% variance\n",
      "First 408 eigen vectors explain 99.8689701183674% variance\n",
      "First 409 eigen vectors explain 99.87157226419635% variance\n",
      "First 410 eigen vectors explain 99.87412474295324% variance\n",
      "First 411 eigen vectors explain 99.87664053653899% variance\n",
      "First 412 eigen vectors explain 99.87912290898728% variance\n",
      "First 413 eigen vectors explain 99.88153433734459% variance\n",
      "First 414 eigen vectors explain 99.88391165004147% variance\n",
      "First 415 eigen vectors explain 99.88627289038466% variance\n",
      "First 416 eigen vectors explain 99.88857322611018% variance\n",
      "First 417 eigen vectors explain 99.89084435175384% variance\n",
      "First 418 eigen vectors explain 99.89308558575554% variance\n",
      "First 419 eigen vectors explain 99.8953113484656% variance\n",
      "First 420 eigen vectors explain 99.89747068363586% variance\n",
      "First 421 eigen vectors explain 99.89961621606604% variance\n",
      "First 422 eigen vectors explain 99.90170913429174% variance\n",
      "First 423 eigen vectors explain 99.90377084370944% variance\n",
      "First 424 eigen vectors explain 99.90580603580517% variance\n",
      "First 425 eigen vectors explain 99.90781698513918% variance\n",
      "First 426 eigen vectors explain 99.90982406462246% variance\n",
      "First 427 eigen vectors explain 99.91179832710046% variance\n",
      "First 428 eigen vectors explain 99.91376292042867% variance\n",
      "First 429 eigen vectors explain 99.91570336577318% variance\n",
      "First 430 eigen vectors explain 99.91761837199968% variance\n",
      "First 431 eigen vectors explain 99.91946235471718% variance\n",
      "First 432 eigen vectors explain 99.92129675865625% variance\n",
      "First 433 eigen vectors explain 99.92306056728064% variance\n",
      "First 434 eigen vectors explain 99.92479995434782% variance\n",
      "First 435 eigen vectors explain 99.92651066473832% variance\n",
      "First 436 eigen vectors explain 99.92820698717904% variance\n",
      "First 437 eigen vectors explain 99.92988259162372% variance\n",
      "First 438 eigen vectors explain 99.93155626333858% variance\n",
      "First 439 eigen vectors explain 99.93319475813254% variance\n",
      "First 440 eigen vectors explain 99.9347885364071% variance\n",
      "First 441 eigen vectors explain 99.93637522593258% variance\n",
      "First 442 eigen vectors explain 99.93789056430114% variance\n",
      "First 443 eigen vectors explain 99.93937647458284% variance\n",
      "First 444 eigen vectors explain 99.94084637833114% variance\n",
      "First 445 eigen vectors explain 99.94229873550964% variance\n",
      "First 446 eigen vectors explain 99.94370739329638% variance\n",
      "First 447 eigen vectors explain 99.9450951418212% variance\n",
      "First 448 eigen vectors explain 99.94644949431837% variance\n",
      "First 449 eigen vectors explain 99.94779408005873% variance\n",
      "First 450 eigen vectors explain 99.9491017798356% variance\n",
      "First 451 eigen vectors explain 99.9503699220237% variance\n",
      "First 452 eigen vectors explain 99.95161642575158% variance\n",
      "First 453 eigen vectors explain 99.95283585688331% variance\n",
      "First 454 eigen vectors explain 99.95400812459917% variance\n",
      "First 455 eigen vectors explain 99.95517615664053% variance\n",
      "First 456 eigen vectors explain 99.95632519755183% variance\n",
      "First 457 eigen vectors explain 99.95745511995645% variance\n",
      "First 458 eigen vectors explain 99.95857961085262% variance\n",
      "First 459 eigen vectors explain 99.95966850929054% variance\n",
      "First 460 eigen vectors explain 99.96074509805682% variance\n",
      "First 461 eigen vectors explain 99.961807357391% variance\n",
      "First 462 eigen vectors explain 99.9628471650564% variance\n",
      "First 463 eigen vectors explain 99.96385125819985% variance\n",
      "First 464 eigen vectors explain 99.96483379449727% variance\n",
      "First 465 eigen vectors explain 99.9658063211642% variance\n",
      "First 466 eigen vectors explain 99.96676331125214% variance\n",
      "First 467 eigen vectors explain 99.96767963613318% variance\n",
      "First 468 eigen vectors explain 99.96858261632502% variance\n",
      "First 469 eigen vectors explain 99.96947218600687% variance\n",
      "First 470 eigen vectors explain 99.97034926596781% variance\n",
      "First 471 eigen vectors explain 99.97121533157703% variance\n",
      "First 472 eigen vectors explain 99.97206604110994% variance\n",
      "First 473 eigen vectors explain 99.97288867916521% variance\n",
      "First 474 eigen vectors explain 99.97369990593303% variance\n",
      "First 475 eigen vectors explain 99.97448605131585% variance\n",
      "First 476 eigen vectors explain 99.97527028621708% variance\n",
      "First 477 eigen vectors explain 99.97602921094699% variance\n",
      "First 478 eigen vectors explain 99.97678273799075% variance\n",
      "First 479 eigen vectors explain 99.97751626786795% variance\n",
      "First 480 eigen vectors explain 99.97824884588594% variance\n",
      "First 481 eigen vectors explain 99.97894164815912% variance\n",
      "First 482 eigen vectors explain 99.97961799640375% variance\n",
      "First 483 eigen vectors explain 99.98028037650398% variance\n",
      "First 484 eigen vectors explain 99.98093017644813% variance\n",
      "First 485 eigen vectors explain 99.98156994047851% variance\n",
      "First 486 eigen vectors explain 99.98217852897992% variance\n",
      "First 487 eigen vectors explain 99.98277855285012% variance\n",
      "First 488 eigen vectors explain 99.98334721282238% variance\n",
      "First 489 eigen vectors explain 99.98390211505% variance\n",
      "First 490 eigen vectors explain 99.98444585414536% variance\n",
      "First 491 eigen vectors explain 99.98498220988212% variance\n",
      "First 492 eigen vectors explain 99.98551346200541% variance\n",
      "First 493 eigen vectors explain 99.98603103393937% variance\n",
      "First 494 eigen vectors explain 99.98652608506808% variance\n",
      "First 495 eigen vectors explain 99.98701049523167% variance\n",
      "First 496 eigen vectors explain 99.98747980911564% variance\n",
      "First 497 eigen vectors explain 99.98794307856105% variance\n",
      "First 498 eigen vectors explain 99.98838757254536% variance\n",
      "First 499 eigen vectors explain 99.98882136825593% variance\n",
      "First 500 eigen vectors explain 99.98924336681236% variance\n",
      "First 501 eigen vectors explain 99.98964384868418% variance\n",
      "First 502 eigen vectors explain 99.99003485520076% variance\n",
      "First 503 eigen vectors explain 99.99040812520542% variance\n",
      "First 504 eigen vectors explain 99.9907749566126% variance\n",
      "First 505 eigen vectors explain 99.99113752745001% variance\n",
      "First 506 eigen vectors explain 99.99148702042436% variance\n",
      "First 507 eigen vectors explain 99.99183108645721% variance\n",
      "First 508 eigen vectors explain 99.99216632341131% variance\n",
      "First 509 eigen vectors explain 99.99249606358771% variance\n",
      "First 510 eigen vectors explain 99.99281910824577% variance\n",
      "First 511 eigen vectors explain 99.99313178974604% variance\n",
      "First 512 eigen vectors explain 99.99343074701109% variance\n",
      "First 513 eigen vectors explain 99.99371761142899% variance\n",
      "First 514 eigen vectors explain 99.99399851038345% variance\n",
      "First 515 eigen vectors explain 99.99426719532394% variance\n",
      "First 516 eigen vectors explain 99.99452719042407% variance\n",
      "First 517 eigen vectors explain 99.99477930274804% variance\n",
      "First 518 eigen vectors explain 99.99502716969262% variance\n",
      "First 519 eigen vectors explain 99.99526836235367% variance\n",
      "First 520 eigen vectors explain 99.99550452533362% variance\n",
      "First 521 eigen vectors explain 99.99574052193854% variance\n",
      "First 522 eigen vectors explain 99.99596279931396% variance\n",
      "First 523 eigen vectors explain 99.9961820825274% variance\n",
      "First 524 eigen vectors explain 99.9963916156235% variance\n",
      "First 525 eigen vectors explain 99.99659291461603% variance\n",
      "First 526 eigen vectors explain 99.99679168130338% variance\n",
      "First 527 eigen vectors explain 99.99698221650786% variance\n",
      "First 528 eigen vectors explain 99.9971651330589% variance\n",
      "First 529 eigen vectors explain 99.99734197557234% variance\n",
      "First 530 eigen vectors explain 99.99751500361565% variance\n",
      "First 531 eigen vectors explain 99.99768100633432% variance\n",
      "First 532 eigen vectors explain 99.99784115170876% variance\n",
      "First 533 eigen vectors explain 99.99799107778752% variance\n",
      "First 534 eigen vectors explain 99.99813061732455% variance\n",
      "First 535 eigen vectors explain 99.99826725394044% variance\n",
      "First 536 eigen vectors explain 99.9984007582736% variance\n",
      "First 537 eigen vectors explain 99.99852939816859% variance\n",
      "First 538 eigen vectors explain 99.99864826979731% variance\n",
      "First 539 eigen vectors explain 99.99876058507715% variance\n",
      "First 540 eigen vectors explain 99.99886936254055% variance\n",
      "First 541 eigen vectors explain 99.99897297752463% variance\n",
      "First 542 eigen vectors explain 99.99907092259467% variance\n",
      "First 543 eigen vectors explain 99.9991622851048% variance\n",
      "First 544 eigen vectors explain 99.99924723686786% variance\n",
      "First 545 eigen vectors explain 99.99932655693911% variance\n",
      "First 546 eigen vectors explain 99.99939577215899% variance\n",
      "First 547 eigen vectors explain 99.99945844690882% variance\n",
      "First 548 eigen vectors explain 99.99951667509384% variance\n",
      "First 549 eigen vectors explain 99.99956814998525% variance\n",
      "First 550 eigen vectors explain 99.99961852969614% variance\n",
      "First 551 eigen vectors explain 99.99966289584764% variance\n",
      "First 552 eigen vectors explain 99.99970329100312% variance\n",
      "First 553 eigen vectors explain 99.99974034515087% variance\n",
      "First 554 eigen vectors explain 99.99977390273291% variance\n",
      "First 555 eigen vectors explain 99.9998062128452% variance\n",
      "First 556 eigen vectors explain 99.99983313922246% variance\n",
      "First 557 eigen vectors explain 99.99985752625986% variance\n",
      "First 558 eigen vectors explain 99.99987864397922% variance\n",
      "First 559 eigen vectors explain 99.99989392344291% variance\n",
      "First 560 eigen vectors explain 99.99990815457242% variance\n",
      "First 561 eigen vectors explain 99.99992177695589% variance\n",
      "First 562 eigen vectors explain 99.99993392462495% variance\n",
      "First 563 eigen vectors explain 99.99994429151796% variance\n",
      "First 564 eigen vectors explain 99.9999540353908% variance\n",
      "First 565 eigen vectors explain 99.99996257734773% variance\n",
      "First 566 eigen vectors explain 99.9999708670579% variance\n",
      "First 567 eigen vectors explain 99.99997872320334% variance\n",
      "First 568 eigen vectors explain 99.99998433662007% variance\n",
      "First 569 eigen vectors explain 99.99998938741889% variance\n",
      "First 570 eigen vectors explain 99.99999336404333% variance\n",
      "First 571 eigen vectors explain 99.99999540624339% variance\n",
      "First 572 eigen vectors explain 99.99999691886391% variance\n",
      "First 573 eigen vectors explain 99.99999781191715% variance\n",
      "First 574 eigen vectors explain 99.99999865441106% variance\n",
      "First 575 eigen vectors explain 99.9999994142635% variance\n",
      "First 576 eigen vectors explain 99.99999973442763% variance\n",
      "First 577 eigen vectors explain 99.99999989489949% variance\n",
      "First 578 eigen vectors explain 99.99999995108092% variance\n",
      "First 579 eigen vectors explain 99.99999999044066% variance\n",
      "First 580 eigen vectors explain 99.9999999991369% variance\n",
      "First 581 eigen vectors explain 99.99999999999912% variance\n",
      "First 582 eigen vectors explain 99.99999999999999% variance\n",
      "First 583 eigen vectors explain 99.99999999999999% variance\n",
      "First 584 eigen vectors explain 99.99999999999999% variance\n",
      "First 585 eigen vectors explain 99.99999999999999% variance\n",
      "First 586 eigen vectors explain 99.99999999999999% variance\n",
      "First 587 eigen vectors explain 99.99999999999999% variance\n",
      "First 588 eigen vectors explain 99.99999999999999% variance\n",
      "First 589 eigen vectors explain 99.99999999999999% variance\n",
      "First 590 eigen vectors explain 99.99999999999999% variance\n",
      "First 591 eigen vectors explain 99.99999999999999% variance\n",
      "First 592 eigen vectors explain 99.99999999999999% variance\n",
      "First 593 eigen vectors explain 99.99999999999999% variance\n",
      "First 594 eigen vectors explain 99.99999999999999% variance\n",
      "First 595 eigen vectors explain 99.99999999999999% variance\n",
      "First 596 eigen vectors explain 99.99999999999999% variance\n",
      "First 597 eigen vectors explain 99.99999999999999% variance\n",
      "First 598 eigen vectors explain 99.99999999999999% variance\n",
      "First 599 eigen vectors explain 99.99999999999999% variance\n",
      "First 600 eigen vectors explain 99.99999999999999% variance\n",
      "First 601 eigen vectors explain 99.99999999999999% variance\n",
      "First 602 eigen vectors explain 99.99999999999999% variance\n",
      "First 603 eigen vectors explain 99.99999999999999% variance\n",
      "First 604 eigen vectors explain 99.99999999999999% variance\n",
      "First 605 eigen vectors explain 99.99999999999999% variance\n",
      "First 606 eigen vectors explain 99.99999999999999% variance\n",
      "First 607 eigen vectors explain 99.99999999999999% variance\n",
      "First 608 eigen vectors explain 99.99999999999999% variance\n",
      "First 609 eigen vectors explain 99.99999999999999% variance\n",
      "First 610 eigen vectors explain 99.99999999999999% variance\n",
      "First 611 eigen vectors explain 99.99999999999999% variance\n",
      "First 612 eigen vectors explain 99.99999999999999% variance\n",
      "First 613 eigen vectors explain 99.99999999999999% variance\n",
      "First 614 eigen vectors explain 99.99999999999999% variance\n",
      "First 615 eigen vectors explain 99.99999999999999% variance\n",
      "First 616 eigen vectors explain 99.99999999999999% variance\n",
      "First 617 eigen vectors explain 99.99999999999999% variance\n",
      "First 618 eigen vectors explain 99.99999999999999% variance\n",
      "First 619 eigen vectors explain 99.99999999999999% variance\n",
      "First 620 eigen vectors explain 99.99999999999999% variance\n",
      "First 621 eigen vectors explain 99.99999999999999% variance\n",
      "First 622 eigen vectors explain 99.99999999999999% variance\n",
      "First 623 eigen vectors explain 99.99999999999999% variance\n",
      "First 624 eigen vectors explain 99.99999999999999% variance\n",
      "First 625 eigen vectors explain 99.99999999999999% variance\n",
      "First 626 eigen vectors explain 99.99999999999999% variance\n",
      "First 627 eigen vectors explain 99.99999999999999% variance\n",
      "First 628 eigen vectors explain 99.99999999999999% variance\n",
      "First 629 eigen vectors explain 99.99999999999999% variance\n",
      "First 630 eigen vectors explain 99.99999999999999% variance\n",
      "First 631 eigen vectors explain 99.99999999999999% variance\n",
      "First 632 eigen vectors explain 99.99999999999999% variance\n",
      "First 633 eigen vectors explain 99.99999999999999% variance\n",
      "First 634 eigen vectors explain 99.99999999999999% variance\n",
      "First 635 eigen vectors explain 99.99999999999999% variance\n",
      "First 636 eigen vectors explain 99.99999999999999% variance\n",
      "First 637 eigen vectors explain 99.99999999999999% variance\n",
      "First 638 eigen vectors explain 99.99999999999999% variance\n",
      "First 639 eigen vectors explain 99.99999999999999% variance\n",
      "First 640 eigen vectors explain 100.0% variance\n",
      "First 641 eigen vectors explain 100.0% variance\n",
      "First 642 eigen vectors explain 100.0% variance\n",
      "First 643 eigen vectors explain 100.0% variance\n",
      "First 644 eigen vectors explain 100.0% variance\n",
      "First 645 eigen vectors explain 100.0% variance\n",
      "First 646 eigen vectors explain 100.0% variance\n",
      "First 647 eigen vectors explain 100.0% variance\n",
      "First 648 eigen vectors explain 100.0% variance\n",
      "First 649 eigen vectors explain 100.0% variance\n",
      "First 650 eigen vectors explain 100.0% variance\n",
      "First 651 eigen vectors explain 100.0% variance\n",
      "First 652 eigen vectors explain 100.0% variance\n",
      "First 653 eigen vectors explain 100.0% variance\n",
      "First 654 eigen vectors explain 100.0% variance\n",
      "First 655 eigen vectors explain 100.0% variance\n",
      "First 656 eigen vectors explain 99.99999999999999% variance\n",
      "First 657 eigen vectors explain 99.99999999999999% variance\n",
      "First 658 eigen vectors explain 99.99999999999999% variance\n",
      "First 659 eigen vectors explain 99.99999999999999% variance\n",
      "First 660 eigen vectors explain 99.99999999999999% variance\n",
      "First 661 eigen vectors explain 99.99999999999999% variance\n",
      "First 662 eigen vectors explain 99.99999999999999% variance\n",
      "First 663 eigen vectors explain 99.99999999999999% variance\n",
      "First 664 eigen vectors explain 99.99999999999999% variance\n",
      "First 665 eigen vectors explain 99.99999999999999% variance\n",
      "First 666 eigen vectors explain 99.99999999999999% variance\n",
      "First 667 eigen vectors explain 99.99999999999999% variance\n",
      "First 668 eigen vectors explain 99.99999999999999% variance\n",
      "First 669 eigen vectors explain 99.99999999999999% variance\n",
      "First 670 eigen vectors explain 99.99999999999999% variance\n",
      "First 671 eigen vectors explain 99.99999999999999% variance\n",
      "First 672 eigen vectors explain 100.0% variance\n",
      "First 673 eigen vectors explain 100.0% variance\n",
      "First 674 eigen vectors explain 100.0% variance\n",
      "First 675 eigen vectors explain 100.0% variance\n",
      "First 676 eigen vectors explain 100.0% variance\n",
      "First 677 eigen vectors explain 100.0% variance\n",
      "First 678 eigen vectors explain 100.0% variance\n",
      "First 679 eigen vectors explain 100.0% variance\n",
      "First 680 eigen vectors explain 100.0% variance\n",
      "First 681 eigen vectors explain 100.0% variance\n",
      "First 682 eigen vectors explain 100.0% variance\n",
      "First 683 eigen vectors explain 100.0% variance\n",
      "First 684 eigen vectors explain 100.0% variance\n",
      "First 685 eigen vectors explain 100.0% variance\n",
      "First 686 eigen vectors explain 100.0% variance\n",
      "First 687 eigen vectors explain 100.0% variance\n",
      "First 688 eigen vectors explain 99.99999999999999% variance\n",
      "First 689 eigen vectors explain 99.99999999999999% variance\n",
      "First 690 eigen vectors explain 99.99999999999999% variance\n",
      "First 691 eigen vectors explain 99.99999999999999% variance\n",
      "First 692 eigen vectors explain 99.99999999999999% variance\n",
      "First 693 eigen vectors explain 99.99999999999999% variance\n",
      "First 694 eigen vectors explain 99.99999999999999% variance\n",
      "First 695 eigen vectors explain 99.99999999999999% variance\n",
      "First 696 eigen vectors explain 99.99999999999999% variance\n",
      "First 697 eigen vectors explain 99.99999999999999% variance\n",
      "First 698 eigen vectors explain 99.99999999999999% variance\n",
      "First 699 eigen vectors explain 99.99999999999999% variance\n",
      "First 700 eigen vectors explain 99.99999999999999% variance\n"
     ]
    }
   ],
   "source": [
    "for i in range(700):\n",
    "    exp_variance = np.sum(eigenvalues[:i+1])*100 / np.sum(eigenvalues)\n",
    "    print(f'First {i+1} eigen vectors explain {exp_variance}% variance')"
   ]
  },
  {
   "cell_type": "code",
   "execution_count": 16,
   "metadata": {},
   "outputs": [
    {
     "name": "stdout",
     "output_type": "stream",
     "text": [
      "1st eigen vector explain 9.807908157237014% variance\n",
      "2st eigen vector explain 7.066906919431035% variance\n",
      "3st eigen vector explain 6.2295711540373615% variance\n",
      "4st eigen vector explain 5.747276182394228% variance\n",
      "5st eigen vector explain 5.048894144744852% variance\n",
      "6st eigen vector explain 4.217929754032307% variance\n",
      "7st eigen vector explain 3.4358473277431334% variance\n",
      "8st eigen vector explain 2.859671414336171% variance\n",
      "9st eigen vector explain 2.728411617590626% variance\n",
      "10st eigen vector explain 2.464460318412452% variance\n",
      "11st eigen vector explain 2.1427085099715675% variance\n",
      "12st eigen vector explain 2.0447665160027517% variance\n",
      "13st eigen vector explain 1.882655806053623% variance\n",
      "14st eigen vector explain 1.6863456044741498% variance\n",
      "15st eigen vector explain 1.6048178601014742% variance\n",
      "16st eigen vector explain 1.4788223922955044% variance\n",
      "17st eigen vector explain 1.3597495262248729% variance\n",
      "18st eigen vector explain 1.294406597515339% variance\n",
      "19st eigen vector explain 1.2045947188663955% variance\n",
      "20st eigen vector explain 1.1965880680003436% variance\n",
      "21st eigen vector explain 1.0616333040993426% variance\n",
      "22st eigen vector explain 1.0196758607501935% variance\n",
      "23st eigen vector explain 0.9816410135446967% variance\n",
      "24st eigen vector explain 0.9610403935172842% variance\n",
      "25st eigen vector explain 0.9140699192391399% variance\n",
      "26st eigen vector explain 0.8823596907312407% variance\n",
      "27st eigen vector explain 0.8203408697914225% variance\n",
      "28st eigen vector explain 0.8021845892142733% variance\n",
      "29st eigen vector explain 0.7478153035453434% variance\n",
      "30st eigen vector explain 0.6978562484801212% variance\n",
      "31st eigen vector explain 0.6823425626125539% variance\n",
      "32st eigen vector explain 0.6446717828345377% variance\n",
      "33st eigen vector explain 0.6157725386047026% variance\n",
      "34st eigen vector explain 0.5916805336142539% variance\n",
      "35st eigen vector explain 0.5699323984225881% variance\n",
      "36st eigen vector explain 0.5365384451839363% variance\n",
      "37st eigen vector explain 0.5301948255605541% variance\n",
      "38st eigen vector explain 0.5005695833695434% variance\n",
      "39st eigen vector explain 0.4864101387250814% variance\n",
      "40st eigen vector explain 0.4811386003944791% variance\n",
      "41st eigen vector explain 0.4682100466009575% variance\n",
      "42st eigen vector explain 0.44711258620008765% variance\n",
      "43st eigen vector explain 0.4182447303728626% variance\n",
      "44st eigen vector explain 0.4108166288807593% variance\n",
      "45st eigen vector explain 0.39649835808894535% variance\n",
      "46st eigen vector explain 0.37144447317039964% variance\n",
      "47st eigen vector explain 0.36662533941413744% variance\n",
      "48st eigen vector explain 0.34713608485117303% variance\n",
      "49st eigen vector explain 0.33253685947993417% variance\n",
      "50st eigen vector explain 0.3220758717959422% variance\n",
      "51st eigen vector explain 0.3102500387690653% variance\n",
      "52st eigen vector explain 0.3044667269098492% variance\n",
      "53st eigen vector explain 0.29901380004187894% variance\n",
      "54st eigen vector explain 0.2938941625811815% variance\n",
      "55st eigen vector explain 0.28849367410415433% variance\n",
      "56st eigen vector explain 0.27912209188411014% variance\n",
      "57st eigen vector explain 0.2730313545127322% variance\n",
      "58st eigen vector explain 0.26410296262892397% variance\n",
      "59st eigen vector explain 0.2627324277706459% variance\n",
      "60st eigen vector explain 0.24513883789798194% variance\n",
      "61st eigen vector explain 0.24146349636035247% variance\n",
      "62st eigen vector explain 0.2293772131381238% variance\n",
      "63st eigen vector explain 0.2280636621029012% variance\n",
      "64st eigen vector explain 0.21718883090091065% variance\n",
      "65st eigen vector explain 0.21039208798377235% variance\n",
      "66st eigen vector explain 0.20846912688691618% variance\n",
      "67st eigen vector explain 0.2039507306573126% variance\n",
      "68st eigen vector explain 0.2011277350507723% variance\n",
      "69st eigen vector explain 0.19217818345608745% variance\n",
      "70st eigen vector explain 0.18562039571485667% variance\n",
      "71st eigen vector explain 0.17661896622033962% variance\n",
      "72st eigen vector explain 0.17386961568143852% variance\n",
      "73st eigen vector explain 0.1692042106918475% variance\n",
      "74st eigen vector explain 0.16542601578759922% variance\n",
      "75st eigen vector explain 0.16094495434164055% variance\n",
      "76st eigen vector explain 0.15846565335656537% variance\n",
      "77st eigen vector explain 0.1534098483713914% variance\n",
      "78st eigen vector explain 0.15038073584820474% variance\n",
      "79st eigen vector explain 0.14894665998400305% variance\n",
      "80st eigen vector explain 0.14434480162396107% variance\n",
      "81st eigen vector explain 0.14031933612390604% variance\n",
      "82st eigen vector explain 0.136205807966246% variance\n",
      "83st eigen vector explain 0.13397559976579337% variance\n",
      "84st eigen vector explain 0.13103172525016005% variance\n",
      "85st eigen vector explain 0.13041226950768955% variance\n",
      "86st eigen vector explain 0.12626261932631663% variance\n",
      "87st eigen vector explain 0.12355220460003269% variance\n",
      "88st eigen vector explain 0.1224306001289418% variance\n",
      "89st eigen vector explain 0.12001768938460865% variance\n",
      "90st eigen vector explain 0.11712693511362939% variance\n",
      "91st eigen vector explain 0.11367732641033279% variance\n",
      "92st eigen vector explain 0.11220543301705993% variance\n",
      "93st eigen vector explain 0.1108346321102138% variance\n",
      "94st eigen vector explain 0.10703208641162368% variance\n",
      "95st eigen vector explain 0.10470324230717556% variance\n",
      "96st eigen vector explain 0.103025423044456% variance\n",
      "97st eigen vector explain 0.10123241328507315% variance\n",
      "98st eigen vector explain 0.09811577176631578% variance\n",
      "99st eigen vector explain 0.09565174832177595% variance\n",
      "100st eigen vector explain 0.09470608355045165% variance\n",
      "101st eigen vector explain 0.09341285672296967% variance\n",
      "102st eigen vector explain 0.0908403320661855% variance\n",
      "103st eigen vector explain 0.08892057209648743% variance\n",
      "104st eigen vector explain 0.08834022534796371% variance\n",
      "105st eigen vector explain 0.086109751625209% variance\n",
      "106st eigen vector explain 0.08521495161744432% variance\n",
      "107st eigen vector explain 0.08355718937852873% variance\n",
      "108st eigen vector explain 0.0831952924107175% variance\n",
      "109st eigen vector explain 0.08252681457976026% variance\n",
      "110st eigen vector explain 0.08057067918233798% variance\n",
      "111st eigen vector explain 0.07881618166655312% variance\n",
      "112st eigen vector explain 0.07863306211703718% variance\n",
      "113st eigen vector explain 0.07617118499760848% variance\n",
      "114st eigen vector explain 0.07540997807992063% variance\n",
      "115st eigen vector explain 0.07431195163637369% variance\n",
      "116st eigen vector explain 0.07255222825917156% variance\n",
      "117st eigen vector explain 0.07211133564532944% variance\n",
      "118st eigen vector explain 0.07110334313551457% variance\n",
      "119st eigen vector explain 0.06933803558947484% variance\n",
      "120st eigen vector explain 0.06856980852544045% variance\n",
      "121st eigen vector explain 0.06717938343897387% variance\n",
      "122st eigen vector explain 0.06647183144548652% variance\n",
      "123st eigen vector explain 0.06609641720284225% variance\n",
      "124st eigen vector explain 0.0640190479095549% variance\n",
      "125st eigen vector explain 0.06227260337730587% variance\n",
      "126st eigen vector explain 0.061257031724938085% variance\n",
      "127st eigen vector explain 0.060615546920987605% variance\n",
      "128st eigen vector explain 0.05960207019381919% variance\n",
      "129st eigen vector explain 0.05842805146377722% variance\n",
      "130st eigen vector explain 0.05763267018949971% variance\n",
      "131st eigen vector explain 0.056774539733041036% variance\n",
      "132st eigen vector explain 0.05613011057336866% variance\n",
      "133st eigen vector explain 0.05578898267135886% variance\n",
      "134st eigen vector explain 0.054989925042529204% variance\n",
      "135st eigen vector explain 0.05452494949408401% variance\n",
      "136st eigen vector explain 0.054193172152051154% variance\n",
      "137st eigen vector explain 0.05329093661775034% variance\n",
      "138st eigen vector explain 0.05231606722597027% variance\n",
      "139st eigen vector explain 0.051873689695063854% variance\n",
      "140st eigen vector explain 0.05089320853616868% variance\n",
      "141st eigen vector explain 0.04994119412693201% variance\n",
      "142st eigen vector explain 0.04928319144882912% variance\n",
      "143st eigen vector explain 0.04872354252078948% variance\n",
      "144st eigen vector explain 0.048051438289007264% variance\n",
      "145st eigen vector explain 0.047429706186236285% variance\n",
      "146st eigen vector explain 0.04687971083475584% variance\n",
      "147st eigen vector explain 0.0460331122449942% variance\n",
      "148st eigen vector explain 0.0458442842115701% variance\n",
      "149st eigen vector explain 0.044642318334826944% variance\n",
      "150st eigen vector explain 0.04422171198165272% variance\n",
      "151st eigen vector explain 0.04352756579548681% variance\n",
      "152st eigen vector explain 0.04274973050933466% variance\n",
      "153st eigen vector explain 0.04235075394481663% variance\n",
      "154st eigen vector explain 0.04169154631495277% variance\n",
      "155st eigen vector explain 0.04162693682238351% variance\n",
      "156st eigen vector explain 0.04095379765300091% variance\n",
      "157st eigen vector explain 0.04005607166851736% variance\n",
      "158st eigen vector explain 0.039855356570006585% variance\n",
      "159st eigen vector explain 0.03974290370502549% variance\n",
      "160st eigen vector explain 0.039434398013226554% variance\n",
      "161st eigen vector explain 0.038773911653019535% variance\n",
      "162st eigen vector explain 0.038366566582708886% variance\n",
      "163st eigen vector explain 0.037826048585325574% variance\n",
      "164st eigen vector explain 0.03772213318048897% variance\n",
      "165st eigen vector explain 0.03723806731747211% variance\n",
      "166st eigen vector explain 0.03666923762119465% variance\n",
      "167st eigen vector explain 0.03591256248571348% variance\n",
      "168st eigen vector explain 0.03572886899086373% variance\n",
      "169st eigen vector explain 0.03545140563706458% variance\n",
      "170st eigen vector explain 0.035140706436313715% variance\n",
      "171st eigen vector explain 0.03459558994337342% variance\n",
      "172st eigen vector explain 0.03442342791945367% variance\n",
      "173st eigen vector explain 0.03377508858619172% variance\n",
      "174st eigen vector explain 0.033663702125433875% variance\n",
      "175st eigen vector explain 0.03339296005196173% variance\n",
      "176st eigen vector explain 0.03288157299807349% variance\n",
      "177st eigen vector explain 0.0325485997617007% variance\n",
      "178st eigen vector explain 0.03188927527596413% variance\n",
      "179st eigen vector explain 0.031652634670271296% variance\n",
      "180st eigen vector explain 0.031306903638647146% variance\n",
      "181st eigen vector explain 0.031068418423921235% variance\n",
      "182st eigen vector explain 0.030366097642941164% variance\n",
      "183st eigen vector explain 0.030121293201516717% variance\n",
      "184st eigen vector explain 0.030055451768945977% variance\n",
      "185st eigen vector explain 0.02973705335650308% variance\n",
      "186st eigen vector explain 0.02931793333569261% variance\n",
      "187st eigen vector explain 0.029032092369235762% variance\n",
      "188st eigen vector explain 0.028697432169039517% variance\n",
      "189st eigen vector explain 0.028453914957951063% variance\n",
      "190st eigen vector explain 0.028434965523490608% variance\n",
      "191st eigen vector explain 0.027773048063005755% variance\n",
      "192st eigen vector explain 0.02727823421919434% variance\n",
      "193st eigen vector explain 0.02723792077355843% variance\n",
      "194st eigen vector explain 0.026795867251989788% variance\n",
      "195st eigen vector explain 0.026426024412073396% variance\n",
      "196st eigen vector explain 0.026361641868167408% variance\n",
      "197st eigen vector explain 0.026037223616797334% variance\n",
      "198st eigen vector explain 0.02579168996765292% variance\n",
      "199st eigen vector explain 0.025510134538819465% variance\n",
      "200st eigen vector explain 0.025402698696509435% variance\n",
      "201st eigen vector explain 0.025008729147820243% variance\n",
      "202st eigen vector explain 0.024847117268520565% variance\n",
      "203st eigen vector explain 0.0246857897928334% variance\n",
      "204st eigen vector explain 0.02445259485328577% variance\n",
      "205st eigen vector explain 0.024071862973271064% variance\n",
      "206st eigen vector explain 0.023783440408140136% variance\n",
      "207st eigen vector explain 0.023516771936107125% variance\n",
      "208st eigen vector explain 0.02323507896591107% variance\n",
      "209st eigen vector explain 0.02309963642216101% variance\n",
      "210st eigen vector explain 0.022885802043218897% variance\n",
      "211st eigen vector explain 0.022711069420927255% variance\n",
      "212st eigen vector explain 0.02240758544795584% variance\n",
      "213st eigen vector explain 0.02220614207016036% variance\n",
      "214st eigen vector explain 0.022098804468058453% variance\n",
      "215st eigen vector explain 0.021630530469929465% variance\n",
      "216st eigen vector explain 0.021418498727758594% variance\n",
      "217st eigen vector explain 0.021284084889908225% variance\n",
      "218st eigen vector explain 0.02118039007999666% variance\n",
      "219st eigen vector explain 0.020951044515423452% variance\n",
      "220st eigen vector explain 0.020685285835306738% variance\n",
      "221st eigen vector explain 0.020585639564674633% variance\n",
      "222st eigen vector explain 0.020237646854378993% variance\n",
      "223st eigen vector explain 0.019891689400799776% variance\n",
      "224st eigen vector explain 0.019798506814798455% variance\n",
      "225st eigen vector explain 0.019694446836115185% variance\n",
      "226st eigen vector explain 0.019582519728228828% variance\n",
      "227st eigen vector explain 0.019168463254598117% variance\n",
      "228st eigen vector explain 0.019062034066202542% variance\n",
      "229st eigen vector explain 0.018928624610646656% variance\n",
      "230st eigen vector explain 0.018891321419187947% variance\n",
      "231st eigen vector explain 0.01861077559647976% variance\n",
      "232st eigen vector explain 0.018468085840103194% variance\n",
      "233st eigen vector explain 0.018119438954369033% variance\n",
      "234st eigen vector explain 0.0180347949380053% variance\n",
      "235st eigen vector explain 0.017706120940796335% variance\n",
      "236st eigen vector explain 0.017624373162727143% variance\n",
      "237st eigen vector explain 0.01749870617745861% variance\n",
      "238st eigen vector explain 0.017476982639427766% variance\n",
      "239st eigen vector explain 0.017272070712667537% variance\n",
      "240st eigen vector explain 0.017158529157237753% variance\n",
      "241st eigen vector explain 0.016958351904000822% variance\n",
      "242st eigen vector explain 0.016765671706372755% variance\n",
      "243st eigen vector explain 0.01648617901838235% variance\n",
      "244st eigen vector explain 0.016441233514812262% variance\n",
      "245st eigen vector explain 0.01632503118667305% variance\n",
      "246st eigen vector explain 0.016142978093783636% variance\n",
      "247st eigen vector explain 0.01598461922875869% variance\n",
      "248st eigen vector explain 0.015780913044796008% variance\n",
      "249st eigen vector explain 0.01564261993269478% variance\n",
      "250st eigen vector explain 0.015432902448222712% variance\n",
      "251st eigen vector explain 0.015168266922437924% variance\n",
      "252st eigen vector explain 0.014982477748006444% variance\n",
      "253st eigen vector explain 0.01488614583614628% variance\n",
      "254st eigen vector explain 0.014807293736329082% variance\n",
      "255st eigen vector explain 0.014624026375307258% variance\n",
      "256st eigen vector explain 0.014566089443582396% variance\n",
      "257st eigen vector explain 0.014507635144504904% variance\n",
      "258st eigen vector explain 0.014174688099625063% variance\n",
      "259st eigen vector explain 0.014019155724517611% variance\n",
      "260st eigen vector explain 0.013845618351745996% variance\n",
      "261st eigen vector explain 0.013817712294902832% variance\n",
      "262st eigen vector explain 0.013610470157390977% variance\n",
      "263st eigen vector explain 0.013591428759238449% variance\n",
      "264st eigen vector explain 0.013385484387610717% variance\n",
      "265st eigen vector explain 0.013290224478118298% variance\n",
      "266st eigen vector explain 0.012971485608335423% variance\n",
      "267st eigen vector explain 0.012956043211330702% variance\n",
      "268st eigen vector explain 0.012848599466968456% variance\n",
      "269st eigen vector explain 0.01277624178274437% variance\n",
      "270st eigen vector explain 0.012617641249077377% variance\n",
      "271st eigen vector explain 0.012456254359345453% variance\n",
      "272st eigen vector explain 0.012354663584563023% variance\n",
      "273st eigen vector explain 0.012240259408558316% variance\n",
      "274st eigen vector explain 0.01214128846263273% variance\n",
      "275st eigen vector explain 0.011926227269038173% variance\n",
      "276st eigen vector explain 0.011900342107440723% variance\n",
      "277st eigen vector explain 0.011729489516489668% variance\n",
      "278st eigen vector explain 0.011658675173234224% variance\n",
      "279st eigen vector explain 0.011567275113266114% variance\n",
      "280st eigen vector explain 0.011349796055368032% variance\n",
      "281st eigen vector explain 0.011321584405851355% variance\n",
      "282st eigen vector explain 0.011199276621525278% variance\n",
      "283st eigen vector explain 0.011198044934724705% variance\n",
      "284st eigen vector explain 0.011118089503379685% variance\n",
      "285st eigen vector explain 0.01105568564630044% variance\n",
      "286st eigen vector explain 0.010866235338352024% variance\n",
      "287st eigen vector explain 0.010794534018013372% variance\n",
      "288st eigen vector explain 0.010690560794802823% variance\n",
      "289st eigen vector explain 0.010575433438761049% variance\n",
      "290st eigen vector explain 0.010463666670612224% variance\n",
      "291st eigen vector explain 0.010385105797722437% variance\n",
      "292st eigen vector explain 0.01019026324344911% variance\n",
      "293st eigen vector explain 0.010077681936204189% variance\n",
      "294st eigen vector explain 0.010049215910129933% variance\n",
      "295st eigen vector explain 0.009964458941643278% variance\n",
      "296st eigen vector explain 0.009935658712959811% variance\n",
      "297st eigen vector explain 0.009700628603981264% variance\n",
      "298st eigen vector explain 0.009655115443411223% variance\n",
      "299st eigen vector explain 0.009597384356482679% variance\n",
      "300st eigen vector explain 0.009485899842524537% variance\n",
      "301st eigen vector explain 0.009394635365796579% variance\n",
      "302st eigen vector explain 0.009264340452721724% variance\n",
      "303st eigen vector explain 0.009116229020974254% variance\n",
      "304st eigen vector explain 0.009078211728316302% variance\n",
      "305st eigen vector explain 0.00900451799712851% variance\n",
      "306st eigen vector explain 0.00885137280247373% variance\n",
      "307st eigen vector explain 0.008698168939239484% variance\n",
      "308st eigen vector explain 0.008629593289219108% variance\n",
      "309st eigen vector explain 0.008597145202567198% variance\n",
      "310st eigen vector explain 0.008498536532766898% variance\n",
      "311st eigen vector explain 0.008389700738633647% variance\n",
      "312st eigen vector explain 0.008291532542598356% variance\n",
      "313st eigen vector explain 0.00827594727925563% variance\n",
      "314st eigen vector explain 0.008104973548706717% variance\n",
      "315st eigen vector explain 0.00806062354498986% variance\n",
      "316st eigen vector explain 0.00797812517897794% variance\n",
      "317st eigen vector explain 0.007970930622949925% variance\n",
      "318st eigen vector explain 0.007841895737383068% variance\n",
      "319st eigen vector explain 0.007713628671108344% variance\n",
      "320st eigen vector explain 0.007607493452605312% variance\n",
      "321st eigen vector explain 0.007540934889170876% variance\n",
      "322st eigen vector explain 0.007528654986424754% variance\n",
      "323st eigen vector explain 0.007345857510416557% variance\n",
      "324st eigen vector explain 0.007327357991452525% variance\n",
      "325st eigen vector explain 0.007225208121601027% variance\n",
      "326st eigen vector explain 0.007137231610686372% variance\n",
      "327st eigen vector explain 0.007072752745004928% variance\n",
      "328st eigen vector explain 0.007005051445758345% variance\n",
      "329st eigen vector explain 0.0069554699870073376% variance\n",
      "330st eigen vector explain 0.006895456695081486% variance\n",
      "331st eigen vector explain 0.006861156849332926% variance\n",
      "332st eigen vector explain 0.0067512818884692604% variance\n",
      "333st eigen vector explain 0.006657052530620653% variance\n",
      "334st eigen vector explain 0.006613740661686749% variance\n",
      "335st eigen vector explain 0.00654667399019633% variance\n",
      "336st eigen vector explain 0.006505451082990214% variance\n",
      "337st eigen vector explain 0.006395622481306903% variance\n",
      "338st eigen vector explain 0.0063353968906252915% variance\n",
      "339st eigen vector explain 0.006275982942884488% variance\n",
      "340st eigen vector explain 0.006234278280101108% variance\n",
      "341st eigen vector explain 0.006155578942989476% variance\n",
      "342st eigen vector explain 0.006049832004932684% variance\n",
      "343st eigen vector explain 0.0059427065518405705% variance\n",
      "344st eigen vector explain 0.005908398763766389% variance\n",
      "345st eigen vector explain 0.005866949365385163% variance\n",
      "346st eigen vector explain 0.00581772247092978% variance\n",
      "347st eigen vector explain 0.005784147247754611% variance\n",
      "348st eigen vector explain 0.005687741748479345% variance\n",
      "349st eigen vector explain 0.005645770156922737% variance\n",
      "350st eigen vector explain 0.005540349421092581% variance\n",
      "351st eigen vector explain 0.005469164653841668% variance\n",
      "352st eigen vector explain 0.005442503111409058% variance\n",
      "353st eigen vector explain 0.005380728615987809% variance\n",
      "354st eigen vector explain 0.0052987353879292865% variance\n",
      "355st eigen vector explain 0.005186526048915424% variance\n",
      "356st eigen vector explain 0.005167979915939558% variance\n",
      "357st eigen vector explain 0.005076885692314189% variance\n",
      "358st eigen vector explain 0.005064445752495983% variance\n",
      "359st eigen vector explain 0.005017718484174463% variance\n",
      "360st eigen vector explain 0.0049713072834634735% variance\n",
      "361st eigen vector explain 0.004916531456122791% variance\n",
      "362st eigen vector explain 0.004832931916696303% variance\n",
      "363st eigen vector explain 0.00478129195164508% variance\n",
      "364st eigen vector explain 0.004683460160607344% variance\n",
      "365st eigen vector explain 0.004643800070191105% variance\n",
      "366st eigen vector explain 0.004621207227500649% variance\n",
      "367st eigen vector explain 0.004508095437314646% variance\n",
      "368st eigen vector explain 0.004486914944554726% variance\n",
      "369st eigen vector explain 0.0044530758404406% variance\n",
      "370st eigen vector explain 0.004367072958067316% variance\n",
      "371st eigen vector explain 0.004326675190243519% variance\n",
      "372st eigen vector explain 0.004257209134435952% variance\n",
      "373st eigen vector explain 0.004224002374298943% variance\n",
      "374st eigen vector explain 0.004087412723880365% variance\n",
      "375st eigen vector explain 0.004045845987315771% variance\n",
      "376st eigen vector explain 0.003976256614206905% variance\n",
      "377st eigen vector explain 0.003923614837166084% variance\n",
      "378st eigen vector explain 0.003873070904343287% variance\n",
      "379st eigen vector explain 0.0038528699447008086% variance\n",
      "380st eigen vector explain 0.0038238018031161425% variance\n",
      "381st eigen vector explain 0.0037864658025996895% variance\n",
      "382st eigen vector explain 0.003735852087916654% variance\n",
      "383st eigen vector explain 0.0036463756040646844% variance\n",
      "384st eigen vector explain 0.003632051904085429% variance\n",
      "385st eigen vector explain 0.0036017118863551777% variance\n",
      "386st eigen vector explain 0.0035409120282535204% variance\n",
      "387st eigen vector explain 0.0034713274496750803% variance\n",
      "388st eigen vector explain 0.003460023294524554% variance\n",
      "389st eigen vector explain 0.003425590104963322% variance\n",
      "390st eigen vector explain 0.0033757065304196006% variance\n",
      "391st eigen vector explain 0.003334892431874669% variance\n",
      "392st eigen vector explain 0.0032241684614406733% variance\n",
      "393st eigen vector explain 0.003208239469410709% variance\n",
      "394st eigen vector explain 0.003190142768680245% variance\n",
      "395st eigen vector explain 0.0031519287613534326% variance\n",
      "396st eigen vector explain 0.003104154777403302% variance\n",
      "397st eigen vector explain 0.003075474315731222% variance\n",
      "398st eigen vector explain 0.0030469523011571248% variance\n",
      "399st eigen vector explain 0.002997235921507394% variance\n",
      "400st eigen vector explain 0.0029565556020412463% variance\n",
      "401st eigen vector explain 0.0029350038765992236% variance\n",
      "402st eigen vector explain 0.0029051673228853393% variance\n",
      "403st eigen vector explain 0.0028646869664135832% variance\n",
      "404st eigen vector explain 0.0027650573046758744% variance\n",
      "405st eigen vector explain 0.0027421556312572973% variance\n",
      "406st eigen vector explain 0.002696694718345948% variance\n",
      "407st eigen vector explain 0.0026499874460949374% variance\n",
      "408st eigen vector explain 0.002616199508054287% variance\n",
      "409st eigen vector explain 0.0026021458289433633% variance\n",
      "410st eigen vector explain 0.002552478756894669% variance\n",
      "411st eigen vector explain 0.0025157935857281497% variance\n",
      "412st eigen vector explain 0.002482372448308706% variance\n",
      "413st eigen vector explain 0.0024114283573171535% variance\n",
      "414st eigen vector explain 0.0023773126968717278% variance\n",
      "415st eigen vector explain 0.002361240343193846% variance\n",
      "416st eigen vector explain 0.002300335725539642% variance\n",
      "417st eigen vector explain 0.0022711256436584296% variance\n",
      "418st eigen vector explain 0.0022412340017060033% variance\n",
      "419st eigen vector explain 0.0022257627100509235% variance\n",
      "420st eigen vector explain 0.002159335170242606% variance\n",
      "421st eigen vector explain 0.0021455324301988695% variance\n",
      "422st eigen vector explain 0.0020929182256978116% variance\n",
      "423st eigen vector explain 0.002061709417696718% variance\n",
      "424st eigen vector explain 0.002035192095739362% variance\n",
      "425st eigen vector explain 0.0020109493339956603% variance\n",
      "426st eigen vector explain 0.0020070794832728845% variance\n",
      "427st eigen vector explain 0.001974262478013706% variance\n",
      "428st eigen vector explain 0.0019645933282079636% variance\n",
      "429st eigen vector explain 0.0019404453445194718% variance\n",
      "430st eigen vector explain 0.0019150062264853517% variance\n",
      "431st eigen vector explain 0.0018439827175107013% variance\n",
      "432st eigen vector explain 0.0018344039390681627% variance\n",
      "433st eigen vector explain 0.0017638086243898328% variance\n",
      "434st eigen vector explain 0.001739387067197651% variance\n",
      "435st eigen vector explain 0.0017107103904938207% variance\n",
      "436st eigen vector explain 0.0016963224406968626% variance\n",
      "437st eigen vector explain 0.0016756044446992672% variance\n",
      "438st eigen vector explain 0.0016736717148519576% variance\n",
      "439st eigen vector explain 0.001638494793956096% variance\n",
      "440st eigen vector explain 0.0015937782745512512% variance\n",
      "441st eigen vector explain 0.0015866895254904054% variance\n",
      "442st eigen vector explain 0.0015153383685761997% variance\n",
      "443st eigen vector explain 0.0014859102816839945% variance\n",
      "444st eigen vector explain 0.0014699037482974746% variance\n",
      "445st eigen vector explain 0.0014523571785081207% variance\n",
      "446st eigen vector explain 0.0014086577867330888% variance\n",
      "447st eigen vector explain 0.0013877485248212358% variance\n",
      "448st eigen vector explain 0.0013543524971495944% variance\n",
      "449st eigen vector explain 0.0013445857403736018% variance\n",
      "450st eigen vector explain 0.0013076997768705265% variance\n",
      "451st eigen vector explain 0.0012681421880836436% variance\n",
      "452st eigen vector explain 0.0012465037278691763% variance\n",
      "453st eigen vector explain 0.0012194311317587688% variance\n",
      "454st eigen vector explain 0.0011722677158383025% variance\n",
      "455st eigen vector explain 0.0011680320413750792% variance\n",
      "456st eigen vector explain 0.0011490409113027026% variance\n",
      "457st eigen vector explain 0.0011299224046108995% variance\n",
      "458st eigen vector explain 0.0011244908961651147% variance\n",
      "459st eigen vector explain 0.001088898437925024% variance\n",
      "460st eigen vector explain 0.0010765887662796405% variance\n",
      "461st eigen vector explain 0.0010622593341823815% variance\n",
      "462st eigen vector explain 0.0010398076653879216% variance\n",
      "463st eigen vector explain 0.0010040931434653988% variance\n",
      "464st eigen vector explain 0.0009825362974089026% variance\n",
      "465st eigen vector explain 0.0009725266669382761% variance\n",
      "466st eigen vector explain 0.0009569900879375477% variance\n",
      "467st eigen vector explain 0.0009163248810284726% variance\n",
      "468st eigen vector explain 0.0009029801918531698% variance\n",
      "469st eigen vector explain 0.0008895696818331078% variance\n",
      "470st eigen vector explain 0.0008770799609616639% variance\n",
      "471st eigen vector explain 0.0008660656092018182% variance\n",
      "472st eigen vector explain 0.0008507095329177318% variance\n",
      "473st eigen vector explain 0.0008226380552594913% variance\n",
      "474st eigen vector explain 0.000811226767831262% variance\n",
      "475st eigen vector explain 0.000786145382808543% variance\n",
      "476st eigen vector explain 0.0007842349012467599% variance\n",
      "477st eigen vector explain 0.0007589247299036246% variance\n",
      "478st eigen vector explain 0.0007535270437563932% variance\n",
      "479st eigen vector explain 0.0007335298772132075% variance\n",
      "480st eigen vector explain 0.0007325780180101039% variance\n",
      "481st eigen vector explain 0.000692802273159091% variance\n",
      "482st eigen vector explain 0.0006763482446374914% variance\n",
      "483st eigen vector explain 0.0006623801002395444% variance\n",
      "484st eigen vector explain 0.000649799944132452% variance\n",
      "485st eigen vector explain 0.0006397640303920959% variance\n",
      "486st eigen vector explain 0.0006085885013959466% variance\n",
      "487st eigen vector explain 0.0006000238702084523% variance\n",
      "488st eigen vector explain 0.0005686599722561878% variance\n",
      "489st eigen vector explain 0.0005549022276311168% variance\n",
      "490st eigen vector explain 0.0005437390953716299% variance\n",
      "491st eigen vector explain 0.0005363557367351824% variance\n",
      "492st eigen vector explain 0.0005312521233085931% variance\n",
      "493st eigen vector explain 0.0005175719339410045% variance\n",
      "494st eigen vector explain 0.0004950511287233071% variance\n",
      "495st eigen vector explain 0.0004844101635807532% variance\n",
      "496st eigen vector explain 0.0004693138839707213% variance\n",
      "497st eigen vector explain 0.0004632694454132586% variance\n",
      "498st eigen vector explain 0.00044449398431647616% variance\n",
      "499st eigen vector explain 0.00043379571055762414% variance\n",
      "500st eigen vector explain 0.00042199855645180963% variance\n",
      "501st eigen vector explain 0.00040048187180839414% variance\n",
      "502st eigen vector explain 0.00039100651657510865% variance\n",
      "503st eigen vector explain 0.0003732700046738864% variance\n",
      "504st eigen vector explain 0.00036683140718529923% variance\n",
      "505st eigen vector explain 0.000362570837392595% variance\n",
      "506st eigen vector explain 0.00034949297436666653% variance\n",
      "507st eigen vector explain 0.0003440660328424375% variance\n",
      "508st eigen vector explain 0.00033523695411534477% variance\n",
      "509st eigen vector explain 0.000329740176366284% variance\n",
      "510st eigen vector explain 0.00032304465806649375% variance\n",
      "511st eigen vector explain 0.0003126815002747648% variance\n",
      "512st eigen vector explain 0.0002989572650519159% variance\n",
      "513st eigen vector explain 0.0002868644178718973% variance\n",
      "514st eigen vector explain 0.0002808989544685428% variance\n",
      "515st eigen vector explain 0.00026868494050939003% variance\n",
      "516st eigen vector explain 0.0002599951001092601% variance\n",
      "517st eigen vector explain 0.00025211232397372624% variance\n",
      "518st eigen vector explain 0.00024786694457971817% variance\n",
      "519st eigen vector explain 0.00024119266104549906% variance\n",
      "520st eigen vector explain 0.00023616297994376572% variance\n",
      "521st eigen vector explain 0.00023599660492717628% variance\n",
      "522st eigen vector explain 0.0002222773754235505% variance\n",
      "523st eigen vector explain 0.00021928321343993594% variance\n",
      "524st eigen vector explain 0.00020953309609835302% variance\n",
      "525st eigen vector explain 0.00020129899253082989% variance\n",
      "526st eigen vector explain 0.00019876668733971912% variance\n",
      "527st eigen vector explain 0.00019053520448966913% variance\n",
      "528st eigen vector explain 0.000182916551042037% variance\n",
      "529st eigen vector explain 0.00017684251343474882% variance\n",
      "530st eigen vector explain 0.00017302804331384409% variance\n",
      "531st eigen vector explain 0.00016600271868145061% variance\n",
      "532st eigen vector explain 0.0001601453744312878% variance\n",
      "533st eigen vector explain 0.0001499260787522169% variance\n",
      "534st eigen vector explain 0.00013953953702924347% variance\n",
      "535st eigen vector explain 0.00013663661590056396% variance\n",
      "536st eigen vector explain 0.0001335043331600122% variance\n",
      "537st eigen vector explain 0.0001286398949867788% variance\n",
      "538st eigen vector explain 0.00011887162871519641% variance\n",
      "539st eigen vector explain 0.00011231527985116162% variance\n",
      "540st eigen vector explain 0.00010877746338682279% variance\n",
      "541st eigen vector explain 0.0001036149841063174% variance\n",
      "542st eigen vector explain 9.794507000887489e-05% variance\n",
      "543st eigen vector explain 9.136251015152852e-05% variance\n",
      "544st eigen vector explain 8.495176305557824e-05% variance\n",
      "545st eigen vector explain 7.932007124823608e-05% variance\n",
      "546st eigen vector explain 6.921521988652025e-05% variance\n",
      "547st eigen vector explain 6.267474982569337e-05% variance\n",
      "548st eigen vector explain 5.8228185015310844e-05% variance\n",
      "549st eigen vector explain 5.147489141220794e-05% variance\n",
      "550st eigen vector explain 5.037971088340638e-05% variance\n",
      "551st eigen vector explain 4.436615149752464e-05% variance\n",
      "552st eigen vector explain 4.039515549901845e-05% variance\n",
      "553st eigen vector explain 3.705414773884162e-05% variance\n",
      "554st eigen vector explain 3.35575820399052e-05% variance\n",
      "555st eigen vector explain 3.2310112290423136e-05% variance\n",
      "556st eigen vector explain 2.6926377257198045e-05% variance\n",
      "557st eigen vector explain 2.438703740252803e-05% variance\n",
      "558st eigen vector explain 2.1117719353929903e-05% variance\n",
      "559st eigen vector explain 1.5279463689871466e-05% variance\n",
      "560st eigen vector explain 1.423112951853948e-05% variance\n",
      "561st eigen vector explain 1.3622383458302311e-05% variance\n",
      "562st eigen vector explain 1.2147669069373454e-05% variance\n",
      "563st eigen vector explain 1.0366893014226531e-05% variance\n",
      "564st eigen vector explain 9.743872834947563e-06% variance\n",
      "565st eigen vector explain 8.541956927583257e-06% variance\n",
      "566st eigen vector explain 8.289710167214906e-06% variance\n",
      "567st eigen vector explain 7.856145443084363e-06% variance\n",
      "568st eigen vector explain 5.613416733785944e-06% variance\n",
      "569st eigen vector explain 5.050798825867882e-06% variance\n",
      "570st eigen vector explain 3.97662442996887e-06% variance\n",
      "571st eigen vector explain 2.0422000411227234e-06% variance\n",
      "572st eigen vector explain 1.5126205513845496e-06% variance\n",
      "573st eigen vector explain 8.930532445678261e-07% variance\n",
      "574st eigen vector explain 8.424938829170485e-07% variance\n",
      "575st eigen vector explain 7.598524499654848e-07% variance\n",
      "576st eigen vector explain 3.2016416260846605e-07% variance\n",
      "577st eigen vector explain 1.6047183250526988e-07% variance\n",
      "578st eigen vector explain 5.618144635980311e-08% variance\n",
      "579st eigen vector explain 3.93597394098785e-08% variance\n",
      "580st eigen vector explain 8.696234949179222e-09% variance\n",
      "581st eigen vector explain 8.622225021801205e-10% variance\n",
      "582st eigen vector explain 8.673633114249832e-13% variance\n",
      "583st eigen vector explain 3.8857760388435104e-17% variance\n",
      "584st eigen vector explain 1.124608710131439e-17% variance\n",
      "585st eigen vector explain 1.124608710131439e-17% variance\n",
      "586st eigen vector explain 9.047188813256292e-18% variance\n",
      "587st eigen vector explain 5.199415592703991e-18% variance\n",
      "588st eigen vector explain 9.607890419546313e-19% variance\n",
      "589st eigen vector explain 5.516619444376146e-19% variance\n",
      "590st eigen vector explain 4.077910447662249e-19% variance\n",
      "591st eigen vector explain 1.0681314432852588e-19% variance\n",
      "592st eigen vector explain 0.0% variance\n",
      "593st eigen vector explain 0.0% variance\n",
      "594st eigen vector explain 0.0% variance\n",
      "595st eigen vector explain 0.0% variance\n",
      "596st eigen vector explain 0.0% variance\n",
      "597st eigen vector explain 0.0% variance\n",
      "598st eigen vector explain 0.0% variance\n",
      "599st eigen vector explain 0.0% variance\n",
      "600st eigen vector explain 0.0% variance\n",
      "601st eigen vector explain 0.0% variance\n",
      "602st eigen vector explain 0.0% variance\n",
      "603st eigen vector explain 0.0% variance\n",
      "604st eigen vector explain 0.0% variance\n",
      "605st eigen vector explain 0.0% variance\n",
      "606st eigen vector explain 0.0% variance\n",
      "607st eigen vector explain 0.0% variance\n",
      "608st eigen vector explain 0.0% variance\n",
      "609st eigen vector explain 0.0% variance\n",
      "610st eigen vector explain 0.0% variance\n",
      "611st eigen vector explain 0.0% variance\n",
      "612st eigen vector explain 0.0% variance\n",
      "613st eigen vector explain 0.0% variance\n",
      "614st eigen vector explain 0.0% variance\n",
      "615st eigen vector explain 0.0% variance\n",
      "616st eigen vector explain 0.0% variance\n",
      "617st eigen vector explain 0.0% variance\n",
      "618st eigen vector explain 0.0% variance\n",
      "619st eigen vector explain 0.0% variance\n",
      "620st eigen vector explain 0.0% variance\n",
      "621st eigen vector explain 0.0% variance\n",
      "622st eigen vector explain 0.0% variance\n",
      "623st eigen vector explain 0.0% variance\n",
      "624st eigen vector explain 0.0% variance\n",
      "625st eigen vector explain 0.0% variance\n",
      "626st eigen vector explain 0.0% variance\n",
      "627st eigen vector explain 0.0% variance\n",
      "628st eigen vector explain 0.0% variance\n",
      "629st eigen vector explain 0.0% variance\n",
      "630st eigen vector explain 0.0% variance\n",
      "631st eigen vector explain 0.0% variance\n",
      "632st eigen vector explain 0.0% variance\n",
      "633st eigen vector explain 0.0% variance\n",
      "634st eigen vector explain 0.0% variance\n",
      "635st eigen vector explain 0.0% variance\n",
      "636st eigen vector explain 0.0% variance\n",
      "637st eigen vector explain 0.0% variance\n",
      "638st eigen vector explain 0.0% variance\n",
      "639st eigen vector explain 0.0% variance\n",
      "640st eigen vector explain 0.0% variance\n",
      "641st eigen vector explain 0.0% variance\n",
      "642st eigen vector explain 0.0% variance\n",
      "643st eigen vector explain 0.0% variance\n",
      "644st eigen vector explain 0.0% variance\n",
      "645st eigen vector explain 0.0% variance\n",
      "646st eigen vector explain 0.0% variance\n",
      "647st eigen vector explain 0.0% variance\n",
      "648st eigen vector explain 0.0% variance\n",
      "649st eigen vector explain 0.0% variance\n",
      "650st eigen vector explain 0.0% variance\n",
      "651st eigen vector explain 0.0% variance\n",
      "652st eigen vector explain 0.0% variance\n",
      "653st eigen vector explain 0.0% variance\n",
      "654st eigen vector explain 0.0% variance\n",
      "655st eigen vector explain 0.0% variance\n",
      "656st eigen vector explain 0.0% variance\n",
      "657st eigen vector explain 0.0% variance\n",
      "658st eigen vector explain 0.0% variance\n",
      "659st eigen vector explain 0.0% variance\n",
      "660st eigen vector explain 0.0% variance\n",
      "661st eigen vector explain 0.0% variance\n",
      "662st eigen vector explain 0.0% variance\n",
      "663st eigen vector explain 0.0% variance\n",
      "664st eigen vector explain 0.0% variance\n",
      "665st eigen vector explain 0.0% variance\n",
      "666st eigen vector explain 0.0% variance\n",
      "667st eigen vector explain 0.0% variance\n",
      "668st eigen vector explain 0.0% variance\n",
      "669st eigen vector explain 0.0% variance\n",
      "670st eigen vector explain 0.0% variance\n",
      "671st eigen vector explain 0.0% variance\n",
      "672st eigen vector explain 0.0% variance\n",
      "673st eigen vector explain 0.0% variance\n",
      "674st eigen vector explain 0.0% variance\n",
      "675st eigen vector explain 0.0% variance\n",
      "676st eigen vector explain 0.0% variance\n",
      "677st eigen vector explain 0.0% variance\n",
      "678st eigen vector explain 0.0% variance\n",
      "679st eigen vector explain 0.0% variance\n",
      "680st eigen vector explain 0.0% variance\n",
      "681st eigen vector explain 0.0% variance\n",
      "682st eigen vector explain 0.0% variance\n",
      "683st eigen vector explain 0.0% variance\n",
      "684st eigen vector explain 0.0% variance\n",
      "685st eigen vector explain 0.0% variance\n",
      "686st eigen vector explain 0.0% variance\n",
      "687st eigen vector explain 0.0% variance\n",
      "688st eigen vector explain 0.0% variance\n",
      "689st eigen vector explain 0.0% variance\n",
      "690st eigen vector explain 0.0% variance\n",
      "691st eigen vector explain 0.0% variance\n",
      "692st eigen vector explain 0.0% variance\n",
      "693st eigen vector explain 0.0% variance\n",
      "694st eigen vector explain 0.0% variance\n",
      "695st eigen vector explain 0.0% variance\n",
      "696st eigen vector explain 0.0% variance\n",
      "697st eigen vector explain 0.0% variance\n",
      "698st eigen vector explain 0.0% variance\n",
      "699st eigen vector explain 0.0% variance\n",
      "700st eigen vector explain 0.0% variance\n"
     ]
    }
   ],
   "source": [
    "for i in range(700):\n",
    "    exp_variance = (eigenvalues[i])*100 / np.sum(eigenvalues)\n",
    "    print(f'{i+1}st eigen vector explain {exp_variance}% variance')"
   ]
  },
  {
   "cell_type": "code",
   "execution_count": 17,
   "metadata": {},
   "outputs": [],
   "source": [
    "def number_of_eigen_consider(eigenvalue,eigenvectors,percentage):\n",
    "   eigenvaluecopy = list(eigenvalues.copy())\n",
    "   eigenvectorcopy = list(eigenvectors.copy())\n",
    "   total =  sum(eigenvalues)\n",
    "   s = 0\n",
    "   number_eigen_consider = 0\n",
    "\n",
    "   while True :\n",
    "      \n",
    "      s  = s + eigenvaluecopy.pop(0)\n",
    "      number_eigen_consider+=1\n",
    "      if s/total >percentage:\n",
    "         break\n",
    "      if eigenvaluecopy == []:\n",
    "         break\n",
    "   return number_eigen_consider"
   ]
  },
  {
   "cell_type": "markdown",
   "metadata": {},
   "source": [
    "Finding the number of eigenvectors to retain 99% information"
   ]
  },
  {
   "cell_type": "code",
   "execution_count": 18,
   "metadata": {},
   "outputs": [
    {
     "name": "stdout",
     "output_type": "stream",
     "text": [
      "275\n"
     ]
    }
   ],
   "source": [
    "number_eigen_consider = number_of_eigen_consider(eigenvalues,eigenvectors,0.99)\n",
    "reduced_eigen_space = eigenvectors[:, :number_eigen_consider]\n",
    "X_compressed = np.dot(centered_dataset, reduced_eigen_space)\n",
    "X_reconstructed = np.dot(X_compressed,reduced_eigen_space.T)\n",
    "data_reconstructed = (X_reconstructed) + avg\n",
    "reconstructed_images = np.reshape(data_reconstructed, (-1, 28, 28))\n",
    "print(number_eigen_consider)"
   ]
  },
  {
   "cell_type": "code",
   "execution_count": 19,
   "metadata": {},
   "outputs": [
    {
     "data": {
      "image/png": "[encoded data removed]",
      "text/plain": [
       "<Figure size 432x288 with 2 Axes>"
      ]
     },
     "metadata": {
      "needs_background": "light"
     },
     "output_type": "display_data"
    }
   ],
   "source": [
    "f = plt.figure()\n",
    "ax1 = f.add_subplot(1,2,1)\n",
    "plt.imshow(selected_images[155].squeeze(), cmap = 'gray')\n",
    "ax1.axis(False)\n",
    "ax2 = f.add_subplot(1,2,2)\n",
    "ax2.axis(False)\n",
    "plt.imshow(reconstructed_images[155].squeeze(), cmap = 'gray')\n",
    "ax1.title.set_text('Original')\n",
    "ax2.title.set_text('Reconstructed after Compression')\n",
    "plt.show(block=True)\n"
   ]
  },
  {
   "cell_type": "markdown",
   "metadata": {},
   "source": [
    "Finding the number of eigenvectors to retain 95% information"
   ]
  },
  {
   "cell_type": "code",
   "execution_count": 20,
   "metadata": {},
   "outputs": [
    {
     "name": "stdout",
     "output_type": "stream",
     "text": [
      "131\n"
     ]
    }
   ],
   "source": [
    "number_eigen_consider = number_of_eigen_consider(eigenvalues,eigenvectors,0.95)\n",
    "reduced_eigen_space = eigenvectors[:, :number_eigen_consider]\n",
    "X_compressed = np.dot(centered_dataset, reduced_eigen_space)\n",
    "X_reconstructed = np.dot(X_compressed,reduced_eigen_space.T)\n",
    "data_reconstructed = (X_reconstructed) + avg\n",
    "reconstructed_images = np.reshape(data_reconstructed, (-1, 28, 28))\n",
    "print(number_eigen_consider)"
   ]
  },
  {
   "cell_type": "code",
   "execution_count": 21,
   "metadata": {},
   "outputs": [
    {
     "data": {
      "image/png": "[encoded data removed]",
      "text/plain": [
       "<Figure size 432x288 with 2 Axes>"
      ]
     },
     "metadata": {
      "needs_background": "light"
     },
     "output_type": "display_data"
    }
   ],
   "source": [
    "f = plt.figure()\n",
    "ax1 = f.add_subplot(1,2,1)\n",
    "plt.imshow(selected_images[155].squeeze(), cmap = 'gray')\n",
    "ax1.axis(False)\n",
    "ax2 = f.add_subplot(1,2,2)\n",
    "ax2.axis(False)\n",
    "plt.imshow(reconstructed_images[155].squeeze(), cmap = 'gray')\n",
    "ax1.title.set_text('Original')\n",
    "ax2.title.set_text('Reconstructed after Compression')\n",
    "plt.show(block=True)"
   ]
  },
  {
   "cell_type": "markdown",
   "metadata": {},
   "source": [
    "Finding the number of eigenvectors to retain all 100%  information"
   ]
  },
  {
   "cell_type": "code",
   "execution_count": 22,
   "metadata": {},
   "outputs": [
    {
     "name": "stdout",
     "output_type": "stream",
     "text": [
      "784\n"
     ]
    }
   ],
   "source": [
    "number_eigen_consider = number_of_eigen_consider(eigenvalues,eigenvectors,1)\n",
    "reduced_eigen_space = eigenvectors[:, :number_eigen_consider]\n",
    "X_compressed = np.dot(centered_dataset, reduced_eigen_space)\n",
    "X_reconstructed = np.dot(X_compressed,reduced_eigen_space.T)\n",
    "data_reconstructed = (X_reconstructed) + avg\n",
    "reconstructed_images = np.reshape(data_reconstructed, (-1, 28, 28))\n",
    "print(number_eigen_consider)"
   ]
  },
  {
   "cell_type": "code",
   "execution_count": 23,
   "metadata": {},
   "outputs": [
    {
     "data": {
      "image/png": "[encoded data removed]",
      "text/plain": [
       "<Figure size 432x288 with 2 Axes>"
      ]
     },
     "metadata": {
      "needs_background": "light"
     },
     "output_type": "display_data"
    }
   ],
   "source": [
    "f = plt.figure()\n",
    "ax1 = f.add_subplot(1,2,1)\n",
    "plt.imshow(selected_images[155].squeeze(), cmap = 'gray')\n",
    "ax1.axis(False)\n",
    "ax2 = f.add_subplot(1,2,2)\n",
    "ax2.axis(False)\n",
    "plt.imshow(reconstructed_images[155].squeeze(), cmap = 'gray')\n",
    "ax1.title.set_text('Original')\n",
    "ax2.title.set_text('Reconstructed after Compression')\n",
    "plt.show(block=True)"
   ]
  },
  {
   "cell_type": "markdown",
   "metadata": {},
   "source": [
    "Finding the number of eigenvectors to retain 90% information"
   ]
  },
  {
   "cell_type": "code",
   "execution_count": 24,
   "metadata": {},
   "outputs": [
    {
     "name": "stdout",
     "output_type": "stream",
     "text": [
      "77\n"
     ]
    }
   ],
   "source": [
    "number_eigen_consider = number_of_eigen_consider(eigenvalues,eigenvectors,0.9)\n",
    "reduced_eigen_space = eigenvectors[:, :number_eigen_consider]\n",
    "X_compressed = np.dot(centered_dataset, reduced_eigen_space)\n",
    "X_reconstructed = np.dot(X_compressed,reduced_eigen_space.T)\n",
    "data_reconstructed = (X_reconstructed) + avg\n",
    "reconstructed_images = np.reshape(data_reconstructed, (-1, 28, 28))\n",
    "print(number_eigen_consider)"
   ]
  },
  {
   "cell_type": "code",
   "execution_count": 25,
   "metadata": {},
   "outputs": [
    {
     "data": {
      "image/png": "[encoded data removed]",
      "text/plain": [
       "<Figure size 432x288 with 2 Axes>"
      ]
     },
     "metadata": {
      "needs_background": "light"
     },
     "output_type": "display_data"
    }
   ],
   "source": [
    "f = plt.figure()\n",
    "ax1 = f.add_subplot(1,2,1)\n",
    "plt.imshow(selected_images[155].squeeze(), cmap = 'gray')\n",
    "ax1.axis(False)\n",
    "ax2 = f.add_subplot(1,2,2)\n",
    "ax2.axis(False)\n",
    "plt.imshow(reconstructed_images[155].squeeze(), cmap = 'gray')\n",
    "ax1.title.set_text('Original')\n",
    "ax2.title.set_text('Reconstructed after Compression')\n",
    "plt.show(block=True)"
   ]
  },
  {
   "cell_type": "markdown",
   "metadata": {},
   "source": [
    "Finding the number of eigen vectors to retain 80% information"
   ]
  },
  {
   "cell_type": "code",
   "execution_count": 26,
   "metadata": {},
   "outputs": [
    {
     "name": "stdout",
     "output_type": "stream",
     "text": [
      "40\n"
     ]
    }
   ],
   "source": [
    "number_eigen_consider = number_of_eigen_consider(eigenvalues,eigenvectors,0.8)\n",
    "reduced_eigen_space = eigenvectors[:, :number_eigen_consider]\n",
    "X_compressed = np.dot(centered_dataset, reduced_eigen_space)\n",
    "X_reconstructed = np.dot(X_compressed,reduced_eigen_space.T)\n",
    "data_reconstructed = (X_reconstructed) + avg\n",
    "reconstructed_images = np.reshape(data_reconstructed, (-1, 28, 28))\n",
    "print(number_eigen_consider)"
   ]
  },
  {
   "cell_type": "code",
   "execution_count": 27,
   "metadata": {},
   "outputs": [
    {
     "data": {
      "image/png": "[encoded data removed]",
      "text/plain": [
       "<Figure size 432x288 with 2 Axes>"
      ]
     },
     "metadata": {
      "needs_background": "light"
     },
     "output_type": "display_data"
    }
   ],
   "source": [
    "f = plt.figure()\n",
    "ax1 = f.add_subplot(1,2,1)\n",
    "plt.imshow(selected_images[155].squeeze(), cmap = 'gray')\n",
    "ax1.axis(False)\n",
    "ax2 = f.add_subplot(1,2,2)\n",
    "ax2.axis(False)\n",
    "plt.imshow(reconstructed_images[155].squeeze(), cmap = 'gray')\n",
    "ax1.title.set_text('Original')\n",
    "ax2.title.set_text('Reconstructed after Compression')\n",
    "plt.show(block=True)"
   ]
  },
  {
   "cell_type": "markdown",
   "metadata": {},
   "source": [
    "Question 1b - different number of dimensions d - reconstruct for different values of d - ie the number of top eigen vectors under consideration"
   ]
  },
  {
   "cell_type": "code",
   "execution_count": 28,
   "metadata": {},
   "outputs": [
    {
     "data": {
      "image/png": "[encoded data removed]",
      "text/plain": [
       "<Figure size 432x288 with 2 Axes>"
      ]
     },
     "metadata": {
      "needs_background": "light"
     },
     "output_type": "display_data"
    }
   ],
   "source": [
    "number_eigen_consider = 100\n",
    "reduced_eigen_space = eigenvectors[:, :number_eigen_consider]\n",
    "X_compressed = np.dot(centered_dataset, reduced_eigen_space)\n",
    "X_reconstructed = np.dot(X_compressed,reduced_eigen_space.T)\n",
    "data_reconstructed = (X_reconstructed) + avg\n",
    "reconstructed_images = np.reshape(data_reconstructed, (-1, 28, 28))\n",
    "f = plt.figure()\n",
    "ax1 = f.add_subplot(1,2,1)\n",
    "plt.imshow(selected_images[155].squeeze(), cmap = 'gray')\n",
    "ax1.axis(False)\n",
    "ax2 = f.add_subplot(1,2,2)\n",
    "ax2.axis(False)\n",
    "plt.imshow(reconstructed_images[155].squeeze(), cmap = 'gray')\n",
    "ax1.title.set_text('Original')\n",
    "ax2.title.set_text('Reconstructed after Compression')\n",
    "plt.show(block=True)"
   ]
  },
  {
   "cell_type": "code",
   "execution_count": 29,
   "metadata": {},
   "outputs": [
    {
     "data": {
      "image/png": "[encoded data removed]",
      "text/plain": [
       "<Figure size 432x288 with 2 Axes>"
      ]
     },
     "metadata": {
      "needs_background": "light"
     },
     "output_type": "display_data"
    }
   ],
   "source": [
    "number_eigen_consider = 120\n",
    "reduced_eigen_space = eigenvectors[:, :number_eigen_consider]\n",
    "X_compressed = np.dot(centered_dataset, reduced_eigen_space)\n",
    "X_reconstructed = np.dot(X_compressed,reduced_eigen_space.T)\n",
    "data_reconstructed = (X_reconstructed) + avg\n",
    "reconstructed_images = np.reshape(data_reconstructed, (-1, 28, 28))\n",
    "f = plt.figure()\n",
    "ax1 = f.add_subplot(1,2,1)\n",
    "plt.imshow(selected_images[155].squeeze(), cmap = 'gray')\n",
    "ax1.axis(False)\n",
    "ax2 = f.add_subplot(1,2,2)\n",
    "ax2.axis(False)\n",
    "plt.imshow(reconstructed_images[155].squeeze(), cmap = 'gray')\n",
    "ax1.title.set_text('Original')\n",
    "ax2.title.set_text('Reconstructed after Compression')\n",
    "plt.show(block=True)"
   ]
  },
  {
   "cell_type": "code",
   "execution_count": 30,
   "metadata": {},
   "outputs": [
    {
     "data": {
      "image/png": "[encoded data removed]",
      "text/plain": [
       "<Figure size 432x288 with 2 Axes>"
      ]
     },
     "metadata": {
      "needs_background": "light"
     },
     "output_type": "display_data"
    }
   ],
   "source": [
    "number_eigen_consider = 140\n",
    "reduced_eigen_space = eigenvectors[:, :number_eigen_consider]\n",
    "X_compressed = np.dot(centered_dataset, reduced_eigen_space)\n",
    "X_reconstructed = np.dot(X_compressed,reduced_eigen_space.T)\n",
    "data_reconstructed = (X_reconstructed) + avg\n",
    "reconstructed_images = np.reshape(data_reconstructed, (-1, 28, 28))\n",
    "f = plt.figure()\n",
    "ax1 = f.add_subplot(1,2,1)\n",
    "plt.imshow(selected_images[155].squeeze(), cmap = 'gray')\n",
    "ax1.axis(False)\n",
    "ax2 = f.add_subplot(1,2,2)\n",
    "ax2.axis(False)\n",
    "plt.imshow(reconstructed_images[155].squeeze(), cmap = 'gray')\n",
    "ax1.title.set_text('Original')\n",
    "ax2.title.set_text('Reconstructed after Compression')\n",
    "plt.show(block=True)"
   ]
  },
  {
   "cell_type": "code",
   "execution_count": 31,
   "metadata": {},
   "outputs": [
    {
     "data": {
      "image/png": "[encoded data removed]",
      "text/plain": [
       "<Figure size 432x288 with 2 Axes>"
      ]
     },
     "metadata": {
      "needs_background": "light"
     },
     "output_type": "display_data"
    }
   ],
   "source": [
    "number_eigen_consider = 160\n",
    "reduced_eigen_space = eigenvectors[:, :number_eigen_consider]\n",
    "X_compressed = np.dot(centered_dataset, reduced_eigen_space)\n",
    "X_reconstructed = np.dot(X_compressed,reduced_eigen_space.T)\n",
    "data_reconstructed = (X_reconstructed) + avg\n",
    "reconstructed_images = np.reshape(data_reconstructed, (-1, 28, 28))\n",
    "f = plt.figure()\n",
    "ax1 = f.add_subplot(1,2,1)\n",
    "plt.imshow(selected_images[155].squeeze(), cmap = 'gray')\n",
    "ax1.axis(False)\n",
    "ax2 = f.add_subplot(1,2,2)\n",
    "ax2.axis(False)\n",
    "plt.imshow(reconstructed_images[155].squeeze(), cmap = 'gray')\n",
    "ax1.title.set_text('Original')\n",
    "ax2.title.set_text('Reconstructed after Compression')\n",
    "plt.show(block=True)"
   ]
  },
  {
   "cell_type": "code",
   "execution_count": 32,
   "metadata": {},
   "outputs": [
    {
     "data": {
      "image/png": "[encoded data removed]",
      "text/plain": [
       "<Figure size 432x288 with 2 Axes>"
      ]
     },
     "metadata": {
      "needs_background": "light"
     },
     "output_type": "display_data"
    }
   ],
   "source": [
    "number_eigen_consider = 180\n",
    "reduced_eigen_space = eigenvectors[:, :number_eigen_consider]\n",
    "X_compressed = np.dot(centered_dataset, reduced_eigen_space)\n",
    "X_reconstructed = np.dot(X_compressed,reduced_eigen_space.T)\n",
    "data_reconstructed = (X_reconstructed) + avg\n",
    "reconstructed_images = np.reshape(data_reconstructed, (-1, 28, 28))\n",
    "f = plt.figure()\n",
    "ax1 = f.add_subplot(1,2,1)\n",
    "plt.imshow(selected_images[155].squeeze(), cmap = 'gray')\n",
    "ax1.axis(False)\n",
    "ax2 = f.add_subplot(1,2,2)\n",
    "ax2.axis(False)\n",
    "plt.imshow(reconstructed_images[155].squeeze(), cmap = 'gray')\n",
    "ax1.title.set_text('Original')\n",
    "ax2.title.set_text('Reconstructed after Compression')\n",
    "plt.show(block=True)"
   ]
  },
  {
   "cell_type": "code",
   "execution_count": 33,
   "metadata": {},
   "outputs": [
    {
     "data": {
      "image/png": "[encoded data removed]",
      "text/plain": [
       "<Figure size 432x288 with 2 Axes>"
      ]
     },
     "metadata": {
      "needs_background": "light"
     },
     "output_type": "display_data"
    }
   ],
   "source": [
    "number_eigen_consider = 190\n",
    "reduced_eigen_space = eigenvectors[:, :number_eigen_consider]\n",
    "X_compressed = np.dot(centered_dataset, reduced_eigen_space)\n",
    "X_reconstructed = np.dot(X_compressed,reduced_eigen_space.T)\n",
    "data_reconstructed = (X_reconstructed) + avg\n",
    "reconstructed_images = np.reshape(data_reconstructed, (-1, 28, 28))\n",
    "f = plt.figure()\n",
    "ax1 = f.add_subplot(1,2,1)\n",
    "plt.imshow(selected_images[155].squeeze(), cmap = 'gray')\n",
    "ax1.axis(False)\n",
    "ax2 = f.add_subplot(1,2,2)\n",
    "ax2.axis(False)\n",
    "plt.imshow(reconstructed_images[155].squeeze(), cmap = 'gray')\n",
    "ax1.title.set_text('Original')\n",
    "ax2.title.set_text('Reconstructed after Compression')\n",
    "plt.show(block=True)"
   ]
  },
  {
   "cell_type": "code",
   "execution_count": 34,
   "metadata": {},
   "outputs": [
    {
     "data": {
      "image/png": "[encoded data removed]",
      "text/plain": [
       "<Figure size 432x288 with 2 Axes>"
      ]
     },
     "metadata": {
      "needs_background": "light"
     },
     "output_type": "display_data"
    }
   ],
   "source": [
    "number_eigen_consider = 200\n",
    "reduced_eigen_space = eigenvectors[:, :number_eigen_consider]\n",
    "X_compressed = np.dot(centered_dataset, reduced_eigen_space)\n",
    "X_reconstructed = np.dot(X_compressed,reduced_eigen_space.T)\n",
    "data_reconstructed = (X_reconstructed) + avg\n",
    "reconstructed_images = np.reshape(data_reconstructed, (-1, 28, 28))\n",
    "f = plt.figure()\n",
    "ax1 = f.add_subplot(1,2,1)\n",
    "plt.imshow(selected_images[155].squeeze(), cmap = 'gray')\n",
    "ax1.axis(False)\n",
    "ax2 = f.add_subplot(1,2,2)\n",
    "ax2.axis(False)\n",
    "plt.imshow(reconstructed_images[155].squeeze(), cmap = 'gray')\n",
    "ax1.title.set_text('Original')\n",
    "ax2.title.set_text('Reconstructed after Compression')\n",
    "plt.show(block=True)"
   ]
  },
  {
   "cell_type": "code",
   "execution_count": 35,
   "metadata": {},
   "outputs": [
    {
     "data": {
      "image/png": "[encoded data removed]",
      "text/plain": [
       "<Figure size 432x288 with 2 Axes>"
      ]
     },
     "metadata": {
      "needs_background": "light"
     },
     "output_type": "display_data"
    }
   ],
   "source": [
    "number_eigen_consider = 210\n",
    "reduced_eigen_space = eigenvectors[:, :number_eigen_consider]\n",
    "X_compressed = np.dot(centered_dataset, reduced_eigen_space)\n",
    "X_reconstructed = np.dot(X_compressed,reduced_eigen_space.T)\n",
    "data_reconstructed = (X_reconstructed) + avg\n",
    "reconstructed_images = np.reshape(data_reconstructed, (-1, 28, 28))\n",
    "f = plt.figure()\n",
    "ax1 = f.add_subplot(1,2,1)\n",
    "plt.imshow(selected_images[155].squeeze(), cmap = 'gray')\n",
    "ax1.axis(False)\n",
    "ax2 = f.add_subplot(1,2,2)\n",
    "ax2.axis(False)\n",
    "plt.imshow(reconstructed_images[155].squeeze(), cmap = 'gray')\n",
    "ax1.title.set_text('Original')\n",
    "ax2.title.set_text('Reconstructed after Compression')\n",
    "plt.show(block=True)"
   ]
  },
  {
   "cell_type": "code",
   "execution_count": 36,
   "metadata": {},
   "outputs": [
    {
     "data": {
      "image/png": "[encoded data removed]",
      "text/plain": [
       "<Figure size 432x288 with 2 Axes>"
      ]
     },
     "metadata": {
      "needs_background": "light"
     },
     "output_type": "display_data"
    }
   ],
   "source": [
    "number_eigen_consider = 220\n",
    "reduced_eigen_space = eigenvectors[:, :number_eigen_consider]\n",
    "X_compressed = np.dot(centered_dataset, reduced_eigen_space)\n",
    "X_reconstructed = np.dot(X_compressed,reduced_eigen_space.T)\n",
    "data_reconstructed = (X_reconstructed) + avg\n",
    "reconstructed_images = np.reshape(data_reconstructed, (-1, 28, 28))\n",
    "f = plt.figure()\n",
    "ax1 = f.add_subplot(1,2,1)\n",
    "plt.imshow(selected_images[155].squeeze(), cmap = 'gray')\n",
    "ax1.axis(False)\n",
    "ax2 = f.add_subplot(1,2,2)\n",
    "ax2.axis(False)\n",
    "plt.imshow(reconstructed_images[155].squeeze(), cmap = 'gray')\n",
    "ax1.title.set_text('Original')\n",
    "ax2.title.set_text('Reconstructed after Compression')\n",
    "plt.show(block=True)"
   ]
  },
  {
   "cell_type": "code",
   "execution_count": 37,
   "metadata": {},
   "outputs": [
    {
     "data": {
      "image/png": "[encoded data removed]",
      "text/plain": [
       "<Figure size 432x288 with 2 Axes>"
      ]
     },
     "metadata": {
      "needs_background": "light"
     },
     "output_type": "display_data"
    }
   ],
   "source": [
    "number_eigen_consider = 230\n",
    "reduced_eigen_space = eigenvectors[:, :number_eigen_consider]\n",
    "X_compressed = np.dot(centered_dataset, reduced_eigen_space)\n",
    "X_reconstructed = np.dot(X_compressed,reduced_eigen_space.T)\n",
    "data_reconstructed = (X_reconstructed) + avg\n",
    "reconstructed_images = np.reshape(data_reconstructed, (-1, 28, 28))\n",
    "f = plt.figure()\n",
    "ax1 = f.add_subplot(1,2,1)\n",
    "plt.imshow(selected_images[155].squeeze(), cmap = 'gray')\n",
    "ax1.axis(False)\n",
    "ax2 = f.add_subplot(1,2,2)\n",
    "ax2.axis(False)\n",
    "plt.imshow(reconstructed_images[155].squeeze(), cmap = 'gray')\n",
    "ax1.title.set_text('Original')\n",
    "ax2.title.set_text('Reconstructed after Compression')\n",
    "plt.show(block=True)"
   ]
  },
  {
   "cell_type": "code",
   "execution_count": 38,
   "metadata": {},
   "outputs": [
    {
     "data": {
      "image/png": "[encoded data removed]",
      "text/plain": [
       "<Figure size 432x288 with 2 Axes>"
      ]
     },
     "metadata": {
      "needs_background": "light"
     },
     "output_type": "display_data"
    }
   ],
   "source": [
    "number_eigen_consider = 240\n",
    "reduced_eigen_space = eigenvectors[:, :number_eigen_consider]\n",
    "X_compressed = np.dot(centered_dataset, reduced_eigen_space)\n",
    "X_reconstructed = np.dot(X_compressed,reduced_eigen_space.T)\n",
    "data_reconstructed = (X_reconstructed) + avg\n",
    "reconstructed_images = np.reshape(data_reconstructed, (-1, 28, 28))\n",
    "f = plt.figure()\n",
    "ax1 = f.add_subplot(1,2,1)\n",
    "plt.imshow(selected_images[155].squeeze(), cmap = 'gray')\n",
    "ax1.axis(False)\n",
    "ax2 = f.add_subplot(1,2,2)\n",
    "ax2.axis(False)\n",
    "plt.imshow(reconstructed_images[155].squeeze(), cmap = 'gray')\n",
    "ax1.title.set_text('Original')\n",
    "ax2.title.set_text('Reconstructed after Compression')\n",
    "plt.show(block=True)"
   ]
  },
  {
   "cell_type": "code",
   "execution_count": 39,
   "metadata": {},
   "outputs": [
    {
     "data": {
      "image/png": "[encoded data removed]",
      "text/plain": [
       "<Figure size 432x288 with 2 Axes>"
      ]
     },
     "metadata": {
      "needs_background": "light"
     },
     "output_type": "display_data"
    }
   ],
   "source": [
    "number_eigen_consider = 260\n",
    "reduced_eigen_space = eigenvectors[:, :number_eigen_consider]\n",
    "X_compressed = np.dot(centered_dataset, reduced_eigen_space)\n",
    "X_reconstructed = np.dot(X_compressed,reduced_eigen_space.T)\n",
    "data_reconstructed = (X_reconstructed) + avg\n",
    "reconstructed_images = np.reshape(data_reconstructed, (-1, 28, 28))\n",
    "f = plt.figure()\n",
    "ax1 = f.add_subplot(1,2,1)\n",
    "plt.imshow(selected_images[155].squeeze(), cmap = 'gray')\n",
    "ax1.axis(False)\n",
    "ax2 = f.add_subplot(1,2,2)\n",
    "ax2.axis(False)\n",
    "plt.imshow(reconstructed_images[155].squeeze(), cmap = 'gray')\n",
    "ax1.title.set_text('Original')\n",
    "ax2.title.set_text('Reconstructed after Compression')\n",
    "plt.show(block=True)"
   ]
  },
  {
   "cell_type": "code",
   "execution_count": 40,
   "metadata": {},
   "outputs": [
    {
     "data": {
      "image/png": "[encoded data removed]",
      "text/plain": [
       "<Figure size 432x288 with 2 Axes>"
      ]
     },
     "metadata": {
      "needs_background": "light"
     },
     "output_type": "display_data"
    }
   ],
   "source": [
    "number_eigen_consider = 280\n",
    "reduced_eigen_space = eigenvectors[:, :number_eigen_consider]\n",
    "X_compressed = np.dot(centered_dataset, reduced_eigen_space)\n",
    "X_reconstructed = np.dot(X_compressed,reduced_eigen_space.T)\n",
    "data_reconstructed = (X_reconstructed) + avg\n",
    "reconstructed_images = np.reshape(data_reconstructed, (-1, 28, 28))\n",
    "f = plt.figure()\n",
    "ax1 = f.add_subplot(1,2,1)\n",
    "plt.imshow(selected_images[155].squeeze(), cmap = 'gray')\n",
    "ax1.axis(False)\n",
    "ax2 = f.add_subplot(1,2,2)\n",
    "ax2.axis(False)\n",
    "plt.imshow(reconstructed_images[155].squeeze(), cmap = 'gray')\n",
    "ax1.title.set_text('Original')\n",
    "ax2.title.set_text('Reconstructed after Compression')\n",
    "plt.show(block=True)"
   ]
  },
  {
   "cell_type": "code",
   "execution_count": 41,
   "metadata": {},
   "outputs": [
    {
     "data": {
      "image/png": "[encoded data removed]",
      "text/plain": [
       "<Figure size 432x288 with 2 Axes>"
      ]
     },
     "metadata": {
      "needs_background": "light"
     },
     "output_type": "display_data"
    }
   ],
   "source": [
    "number_eigen_consider = 290\n",
    "reduced_eigen_space = eigenvectors[:, :number_eigen_consider]\n",
    "X_compressed = np.dot(centered_dataset, reduced_eigen_space)\n",
    "X_reconstructed = np.dot(X_compressed,reduced_eigen_space.T)\n",
    "data_reconstructed = (X_reconstructed) + avg\n",
    "reconstructed_images = np.reshape(data_reconstructed, (-1, 28, 28))\n",
    "f = plt.figure()\n",
    "ax1 = f.add_subplot(1,2,1)\n",
    "plt.imshow(selected_images[155].squeeze(), cmap = 'gray')\n",
    "ax1.axis(False)\n",
    "ax2 = f.add_subplot(1,2,2)\n",
    "ax2.axis(False)\n",
    "plt.imshow(reconstructed_images[155].squeeze(), cmap = 'gray')\n",
    "ax1.title.set_text('Original')\n",
    "ax2.title.set_text('Reconstructed after Compression')\n",
    "plt.show(block=True)"
   ]
  },
  {
   "cell_type": "code",
   "execution_count": 42,
   "metadata": {},
   "outputs": [
    {
     "data": {
      "image/png": "[encoded data removed]",
      "text/plain": [
       "<Figure size 432x288 with 2 Axes>"
      ]
     },
     "metadata": {
      "needs_background": "light"
     },
     "output_type": "display_data"
    }
   ],
   "source": [
    "number_eigen_consider = 300\n",
    "reduced_eigen_space = eigenvectors[:, :number_eigen_consider]\n",
    "X_compressed = np.dot(centered_dataset, reduced_eigen_space)\n",
    "X_reconstructed = np.dot(X_compressed,reduced_eigen_space.T)\n",
    "data_reconstructed = (X_reconstructed) + avg\n",
    "reconstructed_images = np.reshape(data_reconstructed, (-1, 28, 28))\n",
    "f = plt.figure()\n",
    "ax1 = f.add_subplot(1,2,1)\n",
    "plt.imshow(selected_images[155].squeeze(), cmap = 'gray')\n",
    "ax1.axis(False)\n",
    "ax2 = f.add_subplot(1,2,2)\n",
    "ax2.axis(False)\n",
    "plt.imshow(reconstructed_images[155].squeeze(), cmap = 'gray')\n",
    "ax1.title.set_text('Original')\n",
    "ax2.title.set_text('Reconstructed after Compression')\n",
    "plt.show(block=True)"
   ]
  },
  {
   "cell_type": "code",
   "execution_count": 43,
   "metadata": {},
   "outputs": [
    {
     "data": {
      "image/png": "[encoded data removed]",
      "text/plain": [
       "<Figure size 432x288 with 2 Axes>"
      ]
     },
     "metadata": {
      "needs_background": "light"
     },
     "output_type": "display_data"
    }
   ],
   "source": [
    "number_eigen_consider = 330\n",
    "reduced_eigen_space = eigenvectors[:, :number_eigen_consider]\n",
    "X_compressed = np.dot(centered_dataset, reduced_eigen_space)\n",
    "X_reconstructed = np.dot(X_compressed,reduced_eigen_space.T)\n",
    "data_reconstructed = (X_reconstructed) + avg\n",
    "reconstructed_images = np.reshape(data_reconstructed, (-1, 28, 28))\n",
    "f = plt.figure()\n",
    "ax1 = f.add_subplot(1,2,1)\n",
    "plt.imshow(selected_images[155].squeeze(), cmap = 'gray')\n",
    "ax1.axis(False)\n",
    "ax2 = f.add_subplot(1,2,2)\n",
    "ax2.axis(False)\n",
    "plt.imshow(reconstructed_images[155].squeeze(), cmap = 'gray')\n",
    "ax1.title.set_text('Original')\n",
    "ax2.title.set_text('Reconstructed after Compression')\n",
    "plt.show(block=True)"
   ]
  },
  {
   "cell_type": "code",
   "execution_count": 44,
   "metadata": {},
   "outputs": [
    {
     "data": {
      "image/png": "[encoded data removed]",
      "text/plain": [
       "<Figure size 432x288 with 2 Axes>"
      ]
     },
     "metadata": {
      "needs_background": "light"
     },
     "output_type": "display_data"
    }
   ],
   "source": [
    "number_eigen_consider = 360\n",
    "reduced_eigen_space = eigenvectors[:, :number_eigen_consider]\n",
    "X_compressed = np.dot(centered_dataset, reduced_eigen_space)\n",
    "X_reconstructed = np.dot(X_compressed,reduced_eigen_space.T)\n",
    "data_reconstructed = (X_reconstructed) + avg\n",
    "reconstructed_images = np.reshape(data_reconstructed, (-1, 28, 28))\n",
    "f = plt.figure()\n",
    "ax1 = f.add_subplot(1,2,1)\n",
    "plt.imshow(selected_images[155].squeeze(), cmap = 'gray')\n",
    "ax1.axis(False)\n",
    "ax2 = f.add_subplot(1,2,2)\n",
    "ax2.axis(False)\n",
    "plt.imshow(reconstructed_images[155].squeeze(), cmap = 'gray')\n",
    "ax1.title.set_text('Original')\n",
    "ax2.title.set_text('Reconstructed after Compression')\n",
    "plt.show(block=True)"
   ]
  },
  {
   "cell_type": "code",
   "execution_count": 45,
   "metadata": {},
   "outputs": [
    {
     "data": {
      "image/png": "[encoded data removed]",
      "text/plain": [
       "<Figure size 432x288 with 2 Axes>"
      ]
     },
     "metadata": {
      "needs_background": "light"
     },
     "output_type": "display_data"
    }
   ],
   "source": [
    "number_eigen_consider = 390\n",
    "reduced_eigen_space = eigenvectors[:, :number_eigen_consider]\n",
    "X_compressed = np.dot(centered_dataset, reduced_eigen_space)\n",
    "X_reconstructed = np.dot(X_compressed,reduced_eigen_space.T)\n",
    "data_reconstructed = (X_reconstructed) + avg\n",
    "reconstructed_images = np.reshape(data_reconstructed, (-1, 28, 28))\n",
    "f = plt.figure()\n",
    "ax1 = f.add_subplot(1,2,1)\n",
    "plt.imshow(selected_images[155].squeeze(), cmap = 'gray')\n",
    "ax1.axis(False)\n",
    "ax2 = f.add_subplot(1,2,2)\n",
    "ax2.axis(False)\n",
    "plt.imshow(reconstructed_images[155].squeeze(), cmap = 'gray')\n",
    "ax1.title.set_text('Original')\n",
    "ax2.title.set_text('Reconstructed after Compression')\n",
    "plt.show(block=True)"
   ]
  },
  {
   "cell_type": "code",
   "execution_count": 46,
   "metadata": {},
   "outputs": [
    {
     "data": {
      "image/png": "[encoded data removed]",
      "text/plain": [
       "<Figure size 432x288 with 2 Axes>"
      ]
     },
     "metadata": {
      "needs_background": "light"
     },
     "output_type": "display_data"
    }
   ],
   "source": [
    "number_eigen_consider = 420\n",
    "reduced_eigen_space = eigenvectors[:, :number_eigen_consider]\n",
    "X_compressed = np.dot(centered_dataset, reduced_eigen_space)\n",
    "X_reconstructed = np.dot(X_compressed,reduced_eigen_space.T)\n",
    "data_reconstructed = (X_reconstructed) + avg\n",
    "reconstructed_images = np.reshape(data_reconstructed, (-1, 28, 28))\n",
    "f = plt.figure()\n",
    "ax1 = f.add_subplot(1,2,1)\n",
    "plt.imshow(selected_images[155].squeeze(), cmap = 'gray')\n",
    "ax1.axis(False)\n",
    "ax2 = f.add_subplot(1,2,2)\n",
    "ax2.axis(False)\n",
    "plt.imshow(reconstructed_images[155].squeeze(), cmap = 'gray')\n",
    "ax1.title.set_text('Original')\n",
    "ax2.title.set_text('Reconstructed after Compression')\n",
    "plt.show(block=True)"
   ]
  },
  {
   "cell_type": "markdown",
   "metadata": {},
   "source": [
    "Question 1 part 3 : Kernel PCA"
   ]
  },
  {
   "cell_type": "code",
   "execution_count": 47,
   "metadata": {},
   "outputs": [],
   "source": [
    "def polynomial_kernel(X,p):\n",
    "    \n",
    "    kernel_matrix = [[0 for i in range(len(X))] for j in range(len(X))]\n",
    "    kernel_matrix = np.zeros((len(X),len(X)))\n",
    "    for i in range(len(X)):\n",
    "        for j in range(len(X)):\n",
    "           \n",
    "            kernel_matrix[i][j] = (1+X[i].T @ X[j])**p         \n",
    "    return kernel_matrix"
   ]
  },
  {
   "cell_type": "code",
   "execution_count": 48,
   "metadata": {},
   "outputs": [],
   "source": [
    "def exponential_kernel(X,sigma):\n",
    "    n = len(X)\n",
    "    kernel_matrix = [[0 for i in range(n)] for j in range(n)]\n",
    "    for i in range(n):\n",
    "        for j in range(n):\n",
    "            t = X[i] - X[j]\n",
    "            kernel_matrix[i][j] = math.exp(-(np.dot(t,t))/(2*sigma*sigma))\n",
    "    return kernel_matrix\n"
   ]
  },
  {
   "cell_type": "code",
   "execution_count": 49,
   "metadata": {},
   "outputs": [
    {
     "data": {
      "image/png": "[encoded data removed]",
      "text/plain": [
       "<Figure size 720x576 with 1 Axes>"
      ]
     },
     "metadata": {
      "needs_background": "light"
     },
     "output_type": "display_data"
    }
   ],
   "source": [
    "poly_dimension_kernel = polynomial_kernel(centered_dataset,2)\n",
    "poly_dimension_kernel_centered = [[0 for i in range(len(poly_dimension_kernel[1]))]for j in range(len(poly_dimension_kernel))]\n",
    "row_sum = np.sum(poly_dimension_kernel,axis = 0) / len(poly_dimension_kernel)\n",
    "number = len(poly_dimension_kernel) \n",
    "total_kernel = (np.sum(poly_dimension_kernel))/(number*number)\n",
    "##Centering the kernel\n",
    "for i in range(number):\n",
    "    for j in range(number):\n",
    "        poly_dimension_kernel_centered[i][j] = poly_dimension_kernel[i][j] - row_sum[i] - row_sum[j] + total_kernel\n",
    "        if poly_dimension_kernel_centered[i][j] != poly_dimension_kernel_centered[j][i]:\n",
    "            poly_dimension_kernel_centered[j][i] = poly_dimension_kernel_centered[i][j]\n",
    "kernel_eigenvalues, kernel_eigenvectors = np.linalg.eigh(poly_dimension_kernel_centered)\n",
    "kernel_eigenvalues = abs(kernel_eigenvalues)\n",
    "alpha_s = kernel_eigenvectors.copy()\n",
    "for i in range(len(alpha_s)):\n",
    "    alpha_s[i] = kernel_eigenvectors[i] / math.sqrt(number * kernel_eigenvalues[i])\n",
    "final_feature_representation = []\n",
    "for  i in range(len(centered_dataset)):\n",
    "    l= []\n",
    "    for k in range(len(alpha_s)):\n",
    "        s= 0\n",
    "        for j in range(len(alpha_s[0])):\n",
    "            s = s + alpha_s[k][j]*poly_dimension_kernel_centered[i][j]\n",
    "        l.append(s)\n",
    "    final_feature_representation.append(l)\n",
    "plot_list = []\n",
    "for i in range(len(final_feature_representation)):\n",
    "    top_two = final_feature_representation[i][-2:]\n",
    "    plot_list.append(top_two)\n",
    "plot_list= np.array(plot_list)\n",
    "X_2 = plot_list[:, 0]\n",
    "X_1 = plot_list[:, 1]\n",
    "\n",
    "plt.figure(figsize=(10, 8))\n",
    "plt.scatter(X_1, X_2)  \n",
    "\n",
    "plt.xlabel('PCA projection Component 1 ')\n",
    "plt.ylabel('PCA Projection Component 2')\n",
    "plt.title('plot of 1st and 2nd components of kernal pca')\n",
    "plt.gca().set_aspect('equal', adjustable='box')  # Set equal aspect ratio"
   ]
  },
  {
   "cell_type": "code",
   "execution_count": 50,
   "metadata": {},
   "outputs": [
    {
     "data": {
      "image/png": "[encoded data removed]",
      "text/plain": [
       "<Figure size 720x576 with 1 Axes>"
      ]
     },
     "metadata": {
      "needs_background": "light"
     },
     "output_type": "display_data"
    }
   ],
   "source": [
    "poly_dimension_kernel = polynomial_kernel(centered_dataset,3)\n",
    "poly_dimension_kernel_centered = [[0 for i in range(len(poly_dimension_kernel[1]))]for j in range(len(poly_dimension_kernel))]\n",
    "row_sum = np.sum(poly_dimension_kernel,axis = 0) / len(poly_dimension_kernel)\n",
    "number = len(poly_dimension_kernel) \n",
    "total_kernel = (np.sum(poly_dimension_kernel))/(number*number)\n",
    "##Centering the kernel\n",
    "for i in range(number):\n",
    "    for j in range(number):\n",
    "        poly_dimension_kernel_centered[i][j] = poly_dimension_kernel[i][j] - row_sum[i] - row_sum[j] + total_kernel\n",
    "        if poly_dimension_kernel_centered[i][j] != poly_dimension_kernel_centered[j][i]:\n",
    "            poly_dimension_kernel_centered[j][i] = poly_dimension_kernel_centered[i][j]\n",
    "kernel_eigenvalues, kernel_eigenvectors = np.linalg.eigh(poly_dimension_kernel_centered)\n",
    "kernel_eigenvalues = abs(kernel_eigenvalues)\n",
    "alpha_s = kernel_eigenvectors.copy()\n",
    "for i in range(len(alpha_s)):\n",
    "    alpha_s[i] = kernel_eigenvectors[i] / math.sqrt(number * kernel_eigenvalues[i])\n",
    "final_feature_representation = []\n",
    "for  i in range(len(centered_dataset)):\n",
    "    l= []\n",
    "    for k in range(len(alpha_s)):\n",
    "        s= 0\n",
    "        for j in range(len(alpha_s[0])):\n",
    "            s = s + alpha_s[k][j]*poly_dimension_kernel_centered[i][j]\n",
    "        l.append(s)\n",
    "    final_feature_representation.append(l)\n",
    "plot_list = []\n",
    "for i in range(len(final_feature_representation)):\n",
    "    top_two = final_feature_representation[i][-2:]\n",
    "    plot_list.append(top_two)\n",
    "plot_list= np.array(plot_list)\n",
    "X_2 = plot_list[:, 0]\n",
    "X_1 = plot_list[:, 1]\n",
    "\n",
    "plt.figure(figsize=(10, 8))\n",
    "plt.scatter(X_1, X_2)  \n",
    "\n",
    "plt.xlabel('PCA Projection Component 1 ')\n",
    "plt.ylabel('PCA Projection component 2')\n",
    "plt.title('plot of 1st and 2nd components of kernal pca')\n",
    "plt.gca().set_aspect('equal', adjustable='box')  # Set equal aspect ratio"
   ]
  },
  {
   "cell_type": "code",
   "execution_count": 51,
   "metadata": {},
   "outputs": [
    {
     "data": {
      "image/png": "[encoded data removed]",
      "text/plain": [
       "<Figure size 720x576 with 1 Axes>"
      ]
     },
     "metadata": {
      "needs_background": "light"
     },
     "output_type": "display_data"
    }
   ],
   "source": [
    "poly_dimension_kernel = polynomial_kernel(centered_dataset,4)\n",
    "poly_dimension_kernel_centered = [[0 for i in range(len(poly_dimension_kernel[1]))]for j in range(len(poly_dimension_kernel))]\n",
    "row_sum = np.sum(poly_dimension_kernel,axis = 0) / len(poly_dimension_kernel)\n",
    "number = len(poly_dimension_kernel) \n",
    "total_kernel = (np.sum(poly_dimension_kernel))/(number*number)\n",
    "##Centering the kernel\n",
    "for i in range(number):\n",
    "    for j in range(number):\n",
    "        poly_dimension_kernel_centered[i][j] = poly_dimension_kernel[i][j] - row_sum[i] - row_sum[j] + total_kernel\n",
    "        if poly_dimension_kernel_centered[i][j] != poly_dimension_kernel_centered[j][i]:\n",
    "            poly_dimension_kernel_centered[j][i] = poly_dimension_kernel_centered[i][j]\n",
    "kernel_eigenvalues, kernel_eigenvectors = np.linalg.eigh(poly_dimension_kernel_centered)\n",
    "kernel_eigenvalues = abs(kernel_eigenvalues)\n",
    "alpha_s = kernel_eigenvectors.copy()\n",
    "for i in range(len(alpha_s)):\n",
    "    alpha_s[i] = kernel_eigenvectors[i] / math.sqrt(number * kernel_eigenvalues[i])\n",
    "final_feature_representation = []\n",
    "for  i in range(len(centered_dataset)):\n",
    "    l= []\n",
    "    for k in range(len(alpha_s)):\n",
    "        s= 0\n",
    "        for j in range(len(alpha_s[0])):\n",
    "            s = s + alpha_s[k][j]*poly_dimension_kernel_centered[i][j]\n",
    "        l.append(s)\n",
    "    final_feature_representation.append(l)\n",
    "plot_list = []\n",
    "for i in range(len(final_feature_representation)):\n",
    "    top_two = final_feature_representation[i][-2:]\n",
    "    plot_list.append(top_two)\n",
    "plot_list= np.array(plot_list)\n",
    "X_2 = plot_list[:, 0]\n",
    "X_1 = plot_list[:, 1]\n",
    "\n",
    "plt.figure(figsize=(10, 8))\n",
    "plt.scatter(X_1, X_2)  \n",
    "\n",
    "plt.xlabel('PCA Projection component 2')\n",
    "plt.ylabel('PCA Projection component 1')\n",
    "plt.title('plot of 1st and 2nd components of kernal pca')\n",
    "plt.gca().set_aspect('equal', adjustable='box')  # Set equal aspect ratio"
   ]
  },
  {
   "cell_type": "code",
   "execution_count": 52,
   "metadata": {},
   "outputs": [
    {
     "data": {
      "image/png": "[encoded data removed]",
      "text/plain": [
       "<Figure size 720x576 with 1 Axes>"
      ]
     },
     "metadata": {
      "needs_background": "light"
     },
     "output_type": "display_data"
    }
   ],
   "source": [
    "poly_dimension_kernel = exponential_kernel(centered_dataset,10)\n",
    "poly_dimension_kernel_centered = [[0 for i in range(len(poly_dimension_kernel[1]))]for j in range(len(poly_dimension_kernel))]\n",
    "row_sum = np.sum(poly_dimension_kernel,axis = 0) / len(poly_dimension_kernel)\n",
    "number = len(poly_dimension_kernel) \n",
    "total_kernel = (np.sum(poly_dimension_kernel))/(number*number)\n",
    "##Centering the kernel\n",
    "for i in range(number):\n",
    "    for j in range(number):\n",
    "        poly_dimension_kernel_centered[i][j] = poly_dimension_kernel[i][j] - row_sum[i] - row_sum[j] + total_kernel\n",
    "        if poly_dimension_kernel_centered[i][j] != poly_dimension_kernel_centered[j][i]:\n",
    "            poly_dimension_kernel_centered[j][i] = poly_dimension_kernel_centered[i][j]\n",
    "kernel_eigenvalues, kernel_eigenvectors = np.linalg.eigh(poly_dimension_kernel_centered)\n",
    "\n",
    "alpha_s = kernel_eigenvectors.copy()\n",
    "for i in range(len(alpha_s)):\n",
    "    alpha_s[i] = kernel_eigenvectors[i] / math.sqrt(number * kernel_eigenvalues[i])\n",
    "final_feature_representation = []\n",
    "for  i in range(len(centered_dataset)):\n",
    "    l= []\n",
    "    for k in range(len(alpha_s)):\n",
    "        s= 0\n",
    "        for j in range(len(alpha_s[0])):\n",
    "            s = s + alpha_s[k][j]*poly_dimension_kernel_centered[i][j]\n",
    "        l.append(s)\n",
    "    final_feature_representation.append(l)\n",
    "plot_list = []\n",
    "for i in range(len(final_feature_representation)):\n",
    "    top_two = final_feature_representation[i][-2:]\n",
    "    plot_list.append(top_two)\n",
    "plot_list= np.array(plot_list)\n",
    "X_2 = plot_list[:, 0]\n",
    "X_1 = plot_list[:, 1]\n",
    "\n",
    "plt.figure(figsize=(10, 8))\n",
    "plt.scatter(X_1, X_2)  \n",
    "plt.xlabel('PCA Projection component 1')\n",
    "plt.ylabel('PCA Projection component 2')\n",
    "plt.title('plot of 1st and 2nd components of kernal pca')\n",
    "plt.gca().set_aspect('equal', adjustable='box')  # Set equal aspect ratio"
   ]
  },
  {
   "cell_type": "code",
   "execution_count": 53,
   "metadata": {},
   "outputs": [
    {
     "data": {
      "image/png": "[encoded data removed]",
      "text/plain": [
       "<Figure size 720x576 with 1 Axes>"
      ]
     },
     "metadata": {
      "needs_background": "light"
     },
     "output_type": "display_data"
    }
   ],
   "source": [
    "poly_dimension_kernel = exponential_kernel(centered_dataset,1)\n",
    "poly_dimension_kernel_centered = [[0 for i in range(len(poly_dimension_kernel[1]))]for j in range(len(poly_dimension_kernel))]\n",
    "row_sum = np.sum(poly_dimension_kernel,axis = 0) / len(poly_dimension_kernel)\n",
    "number = len(poly_dimension_kernel) \n",
    "total_kernel = (np.sum(poly_dimension_kernel))/(number*number)\n",
    "##Centering the kernel\n",
    "for i in range(number):\n",
    "    for j in range(number):\n",
    "        poly_dimension_kernel_centered[i][j] = poly_dimension_kernel[i][j] - row_sum[i] - row_sum[j] + total_kernel\n",
    "        if poly_dimension_kernel_centered[i][j] != poly_dimension_kernel_centered[j][i]:\n",
    "            poly_dimension_kernel_centered[j][i] = poly_dimension_kernel_centered[i][j]\n",
    "kernel_eigenvalues, kernel_eigenvectors = np.linalg.eigh(poly_dimension_kernel_centered)\n",
    "\n",
    "alpha_s = kernel_eigenvectors.copy()\n",
    "for i in range(len(alpha_s)):\n",
    "    alpha_s[i] = kernel_eigenvectors[i] / math.sqrt(number * kernel_eigenvalues[i])\n",
    "final_feature_representation = []\n",
    "for  i in range(len(centered_dataset)):\n",
    "    l= []\n",
    "    for k in range(len(alpha_s)):\n",
    "        s= 0\n",
    "        for j in range(len(alpha_s[0])):\n",
    "            s = s + alpha_s[k][j]*poly_dimension_kernel_centered[i][j]\n",
    "        l.append(s)\n",
    "    final_feature_representation.append(l)\n",
    "plot_list = []\n",
    "for i in range(len(final_feature_representation)):\n",
    "    top_two = final_feature_representation[i][-2:]\n",
    "    plot_list.append(top_two)\n",
    "plot_list= np.array(plot_list)\n",
    "X_2 = plot_list[:, 0]\n",
    "X_1 = plot_list[:, 1]\n",
    "\n",
    "plt.figure(figsize=(10, 8))\n",
    "plt.scatter(X_1, X_2)  \n",
    "plt.xlabel('PCA Projection component 1')\n",
    "plt.ylabel('PCA Projection component 2')\n",
    "plt.title('plot of 1st and 2nd components of kernal pca')\n",
    "plt.gca().set_aspect('equal', adjustable='box')  # Set equal aspect ratio"
   ]
  },
  {
   "cell_type": "code",
   "execution_count": 54,
   "metadata": {},
   "outputs": [
    {
     "data": {
      "image/png": "[encoded data removed]",
      "text/plain": [
       "<Figure size 720x576 with 1 Axes>"
      ]
     },
     "metadata": {
      "needs_background": "light"
     },
     "output_type": "display_data"
    }
   ],
   "source": [
    "poly_dimension_kernel = exponential_kernel(centered_dataset,100)\n",
    "poly_dimension_kernel_centered = [[0 for i in range(len(poly_dimension_kernel[1]))]for j in range(len(poly_dimension_kernel))]\n",
    "row_sum = np.sum(poly_dimension_kernel,axis = 0) / len(poly_dimension_kernel)\n",
    "number = len(poly_dimension_kernel) \n",
    "total_kernel = (np.sum(poly_dimension_kernel))/(number*number)\n",
    "##Centering the kernel\n",
    "for i in range(number):\n",
    "    for j in range(number):\n",
    "        poly_dimension_kernel_centered[i][j] = poly_dimension_kernel[i][j] - row_sum[i] - row_sum[j] + total_kernel\n",
    "        if poly_dimension_kernel_centered[i][j] != poly_dimension_kernel_centered[j][i]:\n",
    "            poly_dimension_kernel_centered[j][i] = poly_dimension_kernel_centered[i][j]\n",
    "kernel_eigenvalues, kernel_eigenvectors = np.linalg.eigh(poly_dimension_kernel_centered)\n",
    "kernel_eigenvalues = abs(kernel_eigenvalues)\n",
    "alpha_s = kernel_eigenvectors.copy()\n",
    "for i in range(len(alpha_s)):\n",
    "    alpha_s[i] = kernel_eigenvectors[i] / math.sqrt(number * kernel_eigenvalues[i])\n",
    "final_feature_representation = []\n",
    "for  i in range(len(centered_dataset)):\n",
    "    l= []\n",
    "    for k in range(len(alpha_s)):\n",
    "        s= 0\n",
    "        for j in range(len(alpha_s[0])):\n",
    "            s = s + alpha_s[k][j]*poly_dimension_kernel_centered[i][j]\n",
    "        l.append(s)\n",
    "    final_feature_representation.append(l)\n",
    "plot_list = []\n",
    "for i in range(len(final_feature_representation)):\n",
    "    top_two = final_feature_representation[i][-2:]\n",
    "    plot_list.append(top_two)\n",
    "plot_list= np.array(plot_list)\n",
    "X_2 = plot_list[:, 0]\n",
    "X_1 = plot_list[:, 1]\n",
    "\n",
    "plt.figure(figsize=(10, 8))\n",
    "plt.scatter(X_1, X_2)  \n",
    "plt.xlabel('PCA Projection component 1')\n",
    "plt.ylabel('PCA Projection component 2')\n",
    "plt.title('plot of 1st and 2nd components of kernal pca')\n",
    "plt.gca().set_aspect('equal', adjustable='box')  # Set equal aspect ratio"
   ]
  },
  {
   "cell_type": "code",
   "execution_count": 55,
   "metadata": {},
   "outputs": [
    {
     "data": {
      "image/png": "[encoded data removed]",
      "text/plain": [
       "<Figure size 720x576 with 1 Axes>"
      ]
     },
     "metadata": {
      "needs_background": "light"
     },
     "output_type": "display_data"
    }
   ],
   "source": [
    "poly_dimension_kernel = exponential_kernel(centered_dataset,50)\n",
    "poly_dimension_kernel_centered = [[0 for i in range(len(poly_dimension_kernel[1]))]for j in range(len(poly_dimension_kernel))]\n",
    "row_sum = np.sum(poly_dimension_kernel,axis = 0) / len(poly_dimension_kernel)\n",
    "number = len(poly_dimension_kernel) \n",
    "total_kernel = (np.sum(poly_dimension_kernel))/(number*number)\n",
    "##Centering the kernel\n",
    "for i in range(number):\n",
    "    for j in range(number):\n",
    "        poly_dimension_kernel_centered[i][j] = poly_dimension_kernel[i][j] - row_sum[i] - row_sum[j] + total_kernel\n",
    "        if poly_dimension_kernel_centered[i][j] != poly_dimension_kernel_centered[j][i]:\n",
    "            poly_dimension_kernel_centered[j][i] = poly_dimension_kernel_centered[i][j]\n",
    "kernel_eigenvalues, kernel_eigenvectors = np.linalg.eigh(poly_dimension_kernel_centered)\n",
    "kernel_eigenvalues = abs(kernel_eigenvalues)\n",
    "alpha_s = kernel_eigenvectors.copy()\n",
    "for i in range(len(alpha_s)):\n",
    "    alpha_s[i] = kernel_eigenvectors[i] / math.sqrt(number * kernel_eigenvalues[i])\n",
    "final_feature_representation = []\n",
    "for  i in range(len(centered_dataset)):\n",
    "    l= []\n",
    "    for k in range(len(alpha_s)):\n",
    "        s= 0\n",
    "        for j in range(len(alpha_s[0])):\n",
    "            s = s + alpha_s[k][j]*poly_dimension_kernel_centered[i][j]\n",
    "        l.append(s)\n",
    "    final_feature_representation.append(l)\n",
    "plot_list = []\n",
    "for i in range(len(final_feature_representation)):\n",
    "    top_two = final_feature_representation[i][-2:]\n",
    "    plot_list.append(top_two)\n",
    "plot_list= np.array(plot_list)\n",
    "X_2 = plot_list[:, 0]\n",
    "X_1 = plot_list[:, 1]\n",
    "\n",
    "plt.figure(figsize=(10, 8))\n",
    "plt.scatter(X_1, X_2)  \n",
    "plt.xlabel('PCA Projection component 1')\n",
    "plt.ylabel('PCA Projection component 2')\n",
    "plt.title('plot of 1st and 2nd components of kernal pca')\n",
    "plt.gca().set_aspect('equal', adjustable='box')  # Set equal aspect ratio"
   ]
  },
  {
   "cell_type": "code",
   "execution_count": 56,
   "metadata": {},
   "outputs": [
    {
     "data": {
      "image/png": "[encoded data removed]",
      "text/plain": [
       "<Figure size 720x576 with 1 Axes>"
      ]
     },
     "metadata": {
      "needs_background": "light"
     },
     "output_type": "display_data"
    }
   ],
   "source": [
    "poly_dimension_kernel = exponential_kernel(centered_dataset,0.1)\n",
    "poly_dimension_kernel_centered = [[0 for i in range(len(poly_dimension_kernel[1]))]for j in range(len(poly_dimension_kernel))]\n",
    "row_sum = np.sum(poly_dimension_kernel,axis = 0) / len(poly_dimension_kernel)\n",
    "number = len(poly_dimension_kernel) \n",
    "total_kernel = (np.sum(poly_dimension_kernel))/(number*number)\n",
    "##Centering the kernel\n",
    "for i in range(number):\n",
    "    for j in range(number):\n",
    "        poly_dimension_kernel_centered[i][j] = poly_dimension_kernel[i][j] - row_sum[i] - row_sum[j] + total_kernel\n",
    "        if poly_dimension_kernel_centered[i][j] != poly_dimension_kernel_centered[j][i]:\n",
    "            poly_dimension_kernel_centered[j][i] = poly_dimension_kernel_centered[i][j]\n",
    "kernel_eigenvalues, kernel_eigenvectors = np.linalg.eigh(poly_dimension_kernel_centered)\n",
    "kernel_eigenvalues = abs(kernel_eigenvalues)\n",
    "alpha_s = kernel_eigenvectors.copy()\n",
    "for i in range(len(alpha_s)):\n",
    "    alpha_s[i] = kernel_eigenvectors[i] / math.sqrt(number * kernel_eigenvalues[i])\n",
    "final_feature_representation = []\n",
    "for  i in range(len(centered_dataset)):\n",
    "    l= []\n",
    "    for k in range(len(alpha_s)):\n",
    "        s= 0\n",
    "        for j in range(len(alpha_s[0])):\n",
    "            s = s + alpha_s[k][j]*poly_dimension_kernel_centered[i][j]\n",
    "        l.append(s)\n",
    "    final_feature_representation.append(l)\n",
    "plot_list = []\n",
    "for i in range(len(final_feature_representation)):\n",
    "    top_two = final_feature_representation[i][-2:]\n",
    "    plot_list.append(top_two)\n",
    "plot_list= np.array(plot_list)\n",
    "X_2 = plot_list[:, 0]\n",
    "X_1 = plot_list[:, 1]\n",
    "\n",
    "plt.figure(figsize=(10, 8))\n",
    "plt.scatter(X_1, X_2)  \n",
    "plt.xlabel('PCA Projection component 1')\n",
    "plt.ylabel('PCA Projection component 2')\n",
    "plt.title('plot of 1st and 2nd components of kernal pca')\n",
    "plt.gca().set_aspect('equal', adjustable='box')  # Set equal aspect ratio\n",
    "\n"
   ]
  },
  {
   "cell_type": "code",
   "execution_count": null,
   "metadata": {},
   "outputs": [],
   "source": []
  }
 ],
 "metadata": {
  "kernelspec": {
   "display_name": "Python 3",
   "language": "python",
   "name": "python3"
  },
  "language_info": {
   "codemirror_mode": {
    "name": "ipython",
    "version": 3
   },
   "file_extension": ".py",
   "mimetype": "text/x-python",
   "name": "python",
   "nbconvert_exporter": "python",
   "pygments_lexer": "ipython3",
   "version": "3.10.2"
  }
 },
 "nbformat": 4,
 "nbformat_minor": 2
}
