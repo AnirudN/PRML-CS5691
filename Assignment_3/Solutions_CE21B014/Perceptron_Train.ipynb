{
 "cells": [
  {
   "cell_type": "code",
   "execution_count": 19,
   "metadata": {},
   "outputs": [
    {
     "name": "stdout",
     "output_type": "stream",
     "text": [
      "Accuracy: 0.9443779108449767\n"
     ]
    }
   ],
   "source": [
    "import os\n",
    "import numpy as np\n",
    "import re\n",
    "from collections import Counter\n",
    "global accur\n",
    "accur=[]\n",
    "class Perceptron:\n",
    "    def __init__(self, num_features):\n",
    "        self.weights = np.zeros(num_features) \n",
    "        self.learning_rate = 0.1\n",
    "\n",
    "    def predict(self, x):\n",
    "        return 1 if np.dot(self.weights, x) > 0 else 0\n",
    "\n",
    "    def train(self, X_train, y_train, num_epochs,X_test,y_test):\n",
    "        global accur\n",
    "        for epoch in range(num_epochs):\n",
    "            for x, y in zip(X_train, y_train):\n",
    "                prediction = self.predict(x)\n",
    "                x = np.array(x)  \n",
    "                self.weights += self.learning_rate * (y - prediction) * x  \n",
    "            correct = 0\n",
    "            for x, y in zip(X_test, y_test):\n",
    "                prediction_t = perceptron.predict(x)\n",
    "                if prediction_t == y:\n",
    "                    correct += 1\n",
    "            total = len(X_test)\n",
    "            acc = correct / total\n",
    "            global accur\n",
    "            accur.append(acc)\n",
    "        \n",
    "\n",
    "\n",
    "\n",
    "def preprocess_email(email):\n",
    "    \n",
    "    email = re.sub(r'\\W+', ' ', email.lower())\n",
    "\n",
    "    return email.split()\n",
    "\n",
    "def extract_features(emails):\n",
    "    features = []\n",
    "    for email in emails:\n",
    "        words = preprocess_email(email)\n",
    "        word_counts = Counter(words)\n",
    "        features.append([word_counts[word] for word in vocabulary])\n",
    "    return features\n",
    "\n",
    "\n",
    "def load_emails_from_folder(folder):\n",
    "    emails = []\n",
    "    for filename in os.listdir(folder):\n",
    "        with open(os.path.join(folder, filename), 'r', encoding='utf-8', errors='ignore') as file:\n",
    "            emails.append(file.read())\n",
    "    return emails\n",
    "\n",
    "\n",
    "\n",
    "spam_folder = r'E:\\dataset_fin\\spam'\n",
    "ham_folder = r'E:\\dataset_fin\\ham'\n",
    "spam_emails = load_emails_from_folder(spam_folder)\n",
    "ham_emails = load_emails_from_folder(ham_folder)\n",
    "\n",
    "\n",
    "split_ratio = 0.8\n",
    "split_index_spam = int(len(spam_emails) * split_ratio)\n",
    "split_index_ham = int(len(ham_emails) * split_ratio)\n",
    "\n",
    "\n",
    "all_emails = spam_emails + ham_emails\n",
    "words = [preprocess_email(email) for email in all_emails]\n",
    "word_counts = Counter([word for sublist in words for word in sublist])\n",
    "vocabulary = [word for word, _ in word_counts.most_common(5000)] \n",
    "\n",
    "\n",
    "X_spam = extract_features(spam_emails)\n",
    "X_ham = extract_features(ham_emails)\n",
    "\n",
    "# Create labels\n",
    "y_spam = [1] * len(spam_emails)\n",
    "y_ham = [0] * len(ham_emails)\n",
    "\n",
    "# Split data into training and testing sets\n",
    "X_train = X_spam[:split_index_spam] + X_ham[:split_index_ham]\n",
    "y_train = y_spam[:split_index_spam] + y_ham[:split_index_ham]\n",
    "X_test = X_spam[split_index_spam:] + X_ham[split_index_ham:]\n",
    "y_test = y_spam[split_index_spam:] + y_ham[split_index_ham:]\n",
    "\n",
    "# Initialize and train perceptron\n",
    "perceptron = Perceptron(len(vocabulary))\n",
    "perceptron.train(X_train, y_train, num_epochs=2000,X_test=X_test,y_test=y_test)\n",
    "\n",
    "# Test perceptron\n",
    "correct = 0\n",
    "total = len(X_test)\n",
    "for x, y in zip(X_test, y_test):\n",
    "    prediction = perceptron.predict(x)\n",
    "    if prediction == y:\n",
    "        correct += 1\n",
    "\n",
    "accuracy = correct / total\n",
    "print(\"Accuracy:\", accuracy)\n"
   ]
  },
  {
   "cell_type": "code",
   "execution_count": 20,
   "metadata": {},
   "outputs": [],
   "source": [
    "import matplotlib.pyplot as plt"
   ]
  },
  {
   "cell_type": "code",
   "execution_count": 26,
   "metadata": {},
   "outputs": [
    {
     "data": {
      "image/png": "[encoded data removed]",
      "text/plain": [
       "<Figure size 720x432 with 1 Axes>"
      ]
     },
     "metadata": {
      "needs_background": "light"
     },
     "output_type": "display_data"
    }
   ],
   "source": [
    "epochs = range(1, len(accur) + 1)  # Number of epochs is determined by the length of the list\n",
    "\n",
    "# Plotting\n",
    "plt.figure(figsize=(10, 6))\n",
    "plt.plot(epochs, accur, 'b', label='Test Accuracy')\n",
    "plt.title('Test Accuracy Over Epochs')\n",
    "plt.xlabel('Epochs')\n",
    "plt.ylabel('Test Accuracy')\n",
    "plt.legend()\n",
    "plt.grid(True)\n",
    "plt.show()"
   ]
  },
  {
   "cell_type": "code",
   "execution_count": 22,
   "metadata": {},
   "outputs": [],
   "source": [
    "import pickle\n",
    "\n",
    "# Save weights to a file\n",
    "with open('perceptron_weights_2000.pkl', 'wb') as f:\n",
    "    pickle.dump(perceptron.weights, f)\n",
    "\n"
   ]
  },
  {
   "cell_type": "code",
   "execution_count": 23,
   "metadata": {},
   "outputs": [],
   "source": [
    "# Load weights from the saved file\n",
    "with open('perceptron_weights.pkl', 'rb') as f:\n",
    "    saved_weights = pickle.load(f)\n",
    "\n",
    "# Create a new perceptron with the loaded weights\n",
    "loaded_perceptron = Perceptron(len(saved_weights))\n",
    "loaded_perceptron.weights = saved_weights\n"
   ]
  },
  {
   "cell_type": "code",
   "execution_count": 24,
   "metadata": {},
   "outputs": [
    {
     "name": "stdout",
     "output_type": "stream",
     "text": [
      "Accuracy: 0.9443779108449767\n"
     ]
    }
   ],
   "source": [
    "\n",
    "correct = 0\n",
    "total = len(X_test)\n",
    "for x, y in zip(X_test, y_test):\n",
    "    prediction = loaded_perceptron.predict(x)\n",
    "    if prediction == y:\n",
    "        correct += 1\n",
    "\n",
    "accuracy = correct / total\n",
    "print(\"Accuracy:\", accuracy)\n"
   ]
  },
  {
   "cell_type": "code",
   "execution_count": null,
   "metadata": {},
   "outputs": [],
   "source": []
  }
 ],
 "metadata": {
  "kernelspec": {
   "display_name": "Python 3",
   "language": "python",
   "name": "python3"
  },
  "language_info": {
   "codemirror_mode": {
    "name": "ipython",
    "version": 3
   },
   "file_extension": ".py",
   "mimetype": "text/x-python",
   "name": "python",
   "nbconvert_exporter": "python",
   "pygments_lexer": "ipython3",
   "version": "3.10.2"
  }
 },
 "nbformat": 4,
 "nbformat_minor": 2
}
