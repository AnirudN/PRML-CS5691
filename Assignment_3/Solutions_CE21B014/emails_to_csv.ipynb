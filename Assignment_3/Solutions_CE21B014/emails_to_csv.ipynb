{
 "cells": [
  {
   "cell_type": "code",
   "execution_count": 1,
   "metadata": {},
   "outputs": [],
   "source": [
    "import os\n",
    "import csv\n",
    "\n",
    "def read_emails(folder_path, label):\n",
    "    emails = []\n",
    "    for filename in os.listdir(folder_path):\n",
    "        if filename.endswith(\".txt\"):\n",
    "            with open(os.path.join(folder_path, filename), \"r\", encoding=\"utf-8\", errors=\"ignore\") as file:\n",
    "                content = file.read()\n",
    "                emails.append((label, content))\n",
    "    return emails\n",
    "import csv\n",
    "\n",
    "\n",
    "def save_to_csv(emails, csv_filename):\n",
    "    with open(csv_filename, \"w\", newline=\"\", encoding=\"utf-8\") as csv_file:\n",
    "        writer = csv.writer(csv_file, quoting=csv.QUOTE_MINIMAL)\n",
    "        writer.writerow([\"sno\", \"label\", \"Message\"])\n",
    "        for idx, (label, message) in enumerate(emails, start=1):\n",
    "            writer.writerow([idx, label, message.encode('unicode_escape').decode()])\n",
    "\n",
    "\n",
    "# Path to the folders\n",
    "spam_folder = r'E:\\dataset_fin\\spam'\n",
    "ham_folder = r'E:\\dataset_fin\\ham'\n",
    "\n",
    "\n",
    "# Reading emails from folders\n",
    "spam_emails = read_emails(spam_folder, \"spam\")\n",
    "ham_emails = read_emails(ham_folder, \"ham\")\n",
    "\n",
    "# Combining spam and ham emails\n",
    "all_emails = spam_emails + ham_emails\n",
    "\n",
    "# Saving to CSV\n",
    "save_to_csv(all_emails, r\"E:\\emails_data.csv\")\n"
   ]
  },
  {
   "cell_type": "code",
   "execution_count": null,
   "metadata": {},
   "outputs": [],
   "source": []
  }
 ],
 "metadata": {
  "kernelspec": {
   "display_name": "Python 3",
   "language": "python",
   "name": "python3"
  },
  "language_info": {
   "codemirror_mode": {
    "name": "ipython",
    "version": 3
   },
   "file_extension": ".py",
   "mimetype": "text/x-python",
   "name": "python",
   "nbconvert_exporter": "python",
   "pygments_lexer": "ipython3",
   "version": "3.10.2"
  }
 },
 "nbformat": 4,
 "nbformat_minor": 2
}
