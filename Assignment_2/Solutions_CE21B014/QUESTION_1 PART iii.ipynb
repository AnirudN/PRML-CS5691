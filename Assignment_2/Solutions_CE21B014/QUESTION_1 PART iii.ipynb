{
 "cells": [
  {
   "cell_type": "markdown",
   "metadata": {},
   "source": [
    "K means"
   ]
  },
  {
   "cell_type": "markdown",
   "metadata": {},
   "source": [
    "question 1 part c"
   ]
  },
  {
   "cell_type": "code",
   "execution_count": 1,
   "metadata": {},
   "outputs": [],
   "source": [
    "import pandas as pd\n",
    "import numpy as np\n",
    "import csv \n",
    "import matplotlib.pyplot as plt\n",
    "import random\n",
    "import math"
   ]
  },
  {
   "cell_type": "code",
   "execution_count": 2,
   "metadata": {},
   "outputs": [],
   "source": [
    "data = [np.zeros(50) for i in range(400)]\n",
    "i=0\n",
    "with open('E:\\ACADS STUFF\\Semester 6\\prml\\Assignment 2\\A2Q1.csv') as file:    \n",
    "    csv_reader = csv.reader(file)    \n",
    "    for row in csv_reader:   \n",
    "        data[i] = row\n",
    "        i+=1\n"
   ]
  },
  {
   "cell_type": "code",
   "execution_count": 3,
   "metadata": {},
   "outputs": [],
   "source": [
    "data = np.array(data, dtype=np.float64)"
   ]
  },
  {
   "cell_type": "code",
   "execution_count": 4,
   "metadata": {},
   "outputs": [],
   "source": [
    "cluster_means = []\n",
    "num_clusters =4\n",
    "\n",
    "random_numbers = [random.randint(0, len(data)) for _ in range(num_clusters)]\n",
    "for k in range(len(random_numbers)):\n",
    "    cluster_means.append(data[random_numbers[k]])\n",
    "\n"
   ]
  },
  {
   "cell_type": "code",
   "execution_count": 5,
   "metadata": {},
   "outputs": [],
   "source": [
    "def initial_assignment(data):\n",
    "    z = [-1 for i in range(len(data))]\n",
    "    for i in range(0,len(z)):\n",
    "        z[i] = random.randint(0, 3)\n",
    "    return z"
   ]
  },
  {
   "cell_type": "code",
   "execution_count": 6,
   "metadata": {},
   "outputs": [],
   "source": [
    "def means_calc(data,z):\n",
    "    s=[[0 for i in range(0,50)] for i in range(0,4)]\n",
    "    num = [0 for i in range(0,4)]\n",
    "    for i in range(len(z)):\n",
    "        cluster = z[i]\n",
    "        num[cluster]+=1\n",
    "        #print(data[i])\n",
    "        s[cluster] = [x+y for x,y in zip(s[cluster],data[i])]\n",
    "    for i in range(len(s)):\n",
    "        for j in range(len(s[i])):\n",
    "            s[i][j] = s[i][j] / num[i]\n",
    "    return s\n",
    "        "
   ]
  },
  {
   "cell_type": "code",
   "execution_count": 7,
   "metadata": {},
   "outputs": [],
   "source": [
    "def reassigner(data,cluster_means,z):\n",
    "    for i in range(0,len(data)):\n",
    "        for k in range(4):\n",
    "            if  np.linalg.norm(data[i] - cluster_means[k]) < np.linalg.norm(data[i] - cluster_means[z[i]]):\n",
    "                z[i] = k\n",
    "    return z"
   ]
  },
  {
   "cell_type": "code",
   "execution_count": 8,
   "metadata": {},
   "outputs": [],
   "source": [
    "def score_calc(data,z,means):\n",
    "    score = 0\n",
    "    for i in range(len(data)):\n",
    "        score += np.linalg.norm(data[i] - means[z[i]])\n",
    "    return score"
   ]
  },
  {
   "cell_type": "code",
   "execution_count": 9,
   "metadata": {},
   "outputs": [
    {
     "name": "stdout",
     "output_type": "stream",
     "text": [
      "Iteration 1 objective 939.6161137830267\n",
      "Iteration 2 objective 833.1401500347334\n",
      "Iteration 3 objective 821.6183102901697\n",
      "Iteration 4 objective 820.6149620035692\n",
      "Iteration 5 objective 820.379566082372\n",
      "Iteration 6 objective 820.0925305182499\n",
      "Iteration 7 objective 819.8066017186806\n",
      "Iteration 8 objective 819.5375502607751\n",
      "Iteration 9 objective 819.3616491281736\n",
      "Iteration 10 objective 819.3113209573042\n",
      "Iteration 11 objective 819.2762894622942\n",
      "Iteration 12 objective 819.2762894622942\n",
      "Iteration 13 objective 819.2762894622942\n",
      "Iteration 14 objective 819.2762894622942\n",
      "Iteration 15 objective 819.2762894622942\n",
      "Iteration 16 objective 819.2762894622942\n",
      "Iteration 17 objective 819.2762894622942\n",
      "Iteration 18 objective 819.2762894622942\n",
      "Iteration 19 objective 819.2762894622942\n",
      "Iteration 20 objective 819.2762894622942\n",
      "Iteration 21 objective 819.2762894622942\n",
      "Iteration 22 objective 819.2762894622942\n",
      "Iteration 23 objective 819.2762894622942\n",
      "Iteration 24 objective 819.2762894622942\n",
      "Iteration 25 objective 819.2762894622942\n",
      "Iteration 26 objective 819.2762894622942\n",
      "Iteration 27 objective 819.2762894622942\n",
      "Iteration 28 objective 819.2762894622942\n",
      "Iteration 29 objective 819.2762894622942\n",
      "Iteration 30 objective 819.2762894622942\n",
      "Iteration 31 objective 819.2762894622942\n"
     ]
    }
   ],
   "source": [
    "z = initial_assignment(data)\n",
    "means = means_calc(data,z)\n",
    "\n",
    "count = 0\n",
    "score_list = []\n",
    "iteration = 0\n",
    "while True:\n",
    "    score = score_calc(data,z,means)\n",
    "    print(\"Iteration\",iteration+1,\"objective\",score)\n",
    "    iteration = iteration+1\n",
    "    score_list.append(score)\n",
    "    znew = reassigner(data,means,z)\n",
    "    if znew == z :\n",
    "        count +=1\n",
    "    if count > 30:\n",
    "        break\n",
    "    z= znew\n",
    "    means =  means_calc(data,z)\n",
    "\n"
   ]
  },
  {
   "cell_type": "code",
   "execution_count": 10,
   "metadata": {},
   "outputs": [
    {
     "data": {
      "image/png": "[encoded data removed]",
      "text/plain": [
       "<Figure size 720x720 with 1 Axes>"
      ]
     },
     "metadata": {
      "needs_background": "light"
     },
     "output_type": "display_data"
    }
   ],
   "source": [
    "plt.figure(figsize=(10, 10))\n",
    "plt.title('Objective vs Iteration')\n",
    "plt.plot(np.arange(1, len(score_list)+ 1), score_list)\n",
    "plt.xlabel('Iteration/Epoch')\n",
    "plt.ylabel('Objective : sum of Norm of distance of each datapoint from its cluster center')\n",
    "plt.grid(True)\n",
    "plt.show()"
   ]
  },
  {
   "cell_type": "code",
   "execution_count": null,
   "metadata": {},
   "outputs": [],
   "source": []
  }
 ],
 "metadata": {
  "kernelspec": {
   "display_name": "Python 3",
   "language": "python",
   "name": "python3"
  },
  "language_info": {
   "codemirror_mode": {
    "name": "ipython",
    "version": 3
   },
   "file_extension": ".py",
   "mimetype": "text/x-python",
   "name": "python",
   "nbconvert_exporter": "python",
   "pygments_lexer": "ipython3",
   "version": "3.10.2"
  }
 },
 "nbformat": 4,
 "nbformat_minor": 2
}
